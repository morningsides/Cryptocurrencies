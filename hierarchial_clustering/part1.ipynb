{
 "metadata": {
  "language_info": {
   "codemirror_mode": {
    "name": "ipython",
    "version": 3
   },
   "file_extension": ".py",
   "mimetype": "text/x-python",
   "name": "python",
   "nbconvert_exporter": "python",
   "pygments_lexer": "ipython3",
   "version": "3.7.7-final"
  },
  "orig_nbformat": 2,
  "kernelspec": {
   "name": "python_defaultSpec_1601567407863",
   "display_name": "Python 3.7.7 64-bit ('mlev': conda)"
  }
 },
 "nbformat": 4,
 "nbformat_minor": 2,
 "cells": [
  {
   "cell_type": "code",
   "execution_count": 2,
   "metadata": {},
   "outputs": [],
   "source": [
    "import pandas as pd\n",
    "from sklearn.preprocessing import StandardScaler\n",
    "from sklearn.decomposition import PCA\n",
    "from sklearn.cluster import AgglomerativeClustering\n",
    "import hvplot.pandas"
   ]
  },
  {
   "cell_type": "code",
   "execution_count": 3,
   "metadata": {},
   "outputs": [
    {
     "output_type": "execute_result",
     "data": {
      "text/plain": "   sepal_length  petal_length  sepal_width  petal_width\n0           5.1           1.4          3.5          0.2\n1           4.9           1.4          3.0          0.2\n2           4.7           1.3          3.2          0.2\n3           4.6           1.5          3.1          0.2\n4           5.0           1.4          3.6          0.2",
      "text/html": "<div>\n<style scoped>\n    .dataframe tbody tr th:only-of-type {\n        vertical-align: middle;\n    }\n\n    .dataframe tbody tr th {\n        vertical-align: top;\n    }\n\n    .dataframe thead th {\n        text-align: right;\n    }\n</style>\n<table border=\"1\" class=\"dataframe\">\n  <thead>\n    <tr style=\"text-align: right;\">\n      <th></th>\n      <th>sepal_length</th>\n      <th>petal_length</th>\n      <th>sepal_width</th>\n      <th>petal_width</th>\n    </tr>\n  </thead>\n  <tbody>\n    <tr>\n      <th>0</th>\n      <td>5.1</td>\n      <td>1.4</td>\n      <td>3.5</td>\n      <td>0.2</td>\n    </tr>\n    <tr>\n      <th>1</th>\n      <td>4.9</td>\n      <td>1.4</td>\n      <td>3.0</td>\n      <td>0.2</td>\n    </tr>\n    <tr>\n      <th>2</th>\n      <td>4.7</td>\n      <td>1.3</td>\n      <td>3.2</td>\n      <td>0.2</td>\n    </tr>\n    <tr>\n      <th>3</th>\n      <td>4.6</td>\n      <td>1.5</td>\n      <td>3.1</td>\n      <td>0.2</td>\n    </tr>\n    <tr>\n      <th>4</th>\n      <td>5.0</td>\n      <td>1.4</td>\n      <td>3.6</td>\n      <td>0.2</td>\n    </tr>\n  </tbody>\n</table>\n</div>"
     },
     "metadata": {},
     "execution_count": 3
    }
   ],
   "source": [
    "# Load data\n",
    "file = \"../Resources/new_iris_data.csv\"\n",
    "df_iris = pd.read_csv(file)\n",
    "df_iris.head()"
   ]
  },
  {
   "cell_type": "code",
   "execution_count": 4,
   "metadata": {},
   "outputs": [],
   "source": [
    "# Step 1 of using PCA is to standardize entire dataset with the StandardScaler\n",
    "iris_scaled = StandardScaler().fit_transform(df_iris)"
   ]
  },
  {
   "cell_type": "code",
   "execution_count": 5,
   "metadata": {},
   "outputs": [],
   "source": [
    "# Initialize PCA model\n",
    "pca = PCA(n_components=2)"
   ]
  },
  {
   "cell_type": "code",
   "execution_count": 6,
   "metadata": {},
   "outputs": [],
   "source": [
    "# Get two principal components for the iris data.\n",
    "iris_pca = pca.fit_transform(iris_scaled)"
   ]
  },
  {
   "cell_type": "code",
   "execution_count": 7,
   "metadata": {},
   "outputs": [
    {
     "output_type": "execute_result",
     "data": {
      "text/plain": "   principal component 1  principal component 2\n0              -2.264542               0.505704\n1              -2.086426              -0.655405\n2              -2.367950              -0.318477\n3              -2.304197              -0.575368\n4              -2.388777               0.674767",
      "text/html": "<div>\n<style scoped>\n    .dataframe tbody tr th:only-of-type {\n        vertical-align: middle;\n    }\n\n    .dataframe tbody tr th {\n        vertical-align: top;\n    }\n\n    .dataframe thead th {\n        text-align: right;\n    }\n</style>\n<table border=\"1\" class=\"dataframe\">\n  <thead>\n    <tr style=\"text-align: right;\">\n      <th></th>\n      <th>principal component 1</th>\n      <th>principal component 2</th>\n    </tr>\n  </thead>\n  <tbody>\n    <tr>\n      <th>0</th>\n      <td>-2.264542</td>\n      <td>0.505704</td>\n    </tr>\n    <tr>\n      <th>1</th>\n      <td>-2.086426</td>\n      <td>-0.655405</td>\n    </tr>\n    <tr>\n      <th>2</th>\n      <td>-2.367950</td>\n      <td>-0.318477</td>\n    </tr>\n    <tr>\n      <th>3</th>\n      <td>-2.304197</td>\n      <td>-0.575368</td>\n    </tr>\n    <tr>\n      <th>4</th>\n      <td>-2.388777</td>\n      <td>0.674767</td>\n    </tr>\n  </tbody>\n</table>\n</div>"
     },
     "metadata": {},
     "execution_count": 7
    }
   ],
   "source": [
    "# Transform PCA data to a DF\n",
    "df_iris_pca = pd.DataFrame(\n",
    "    data = iris_pca, columns=[\"principal component 1\", \"principal component 2\"]\n",
    ")\n",
    "df_iris_pca.head()"
   ]
  },
  {
   "cell_type": "code",
   "execution_count": 8,
   "metadata": {},
   "outputs": [],
   "source": [
    "# Import libraries for dendogram\n",
    "import plotly.figure_factory as ff"
   ]
  },
  {
   "cell_type": "code",
   "execution_count": 9,
   "metadata": {},
   "outputs": [
    {
     "output_type": "display_data",
     "data": {
      "application/vnd.plotly.v1+json": {
       "config": {
        "plotlyServerURL": "https://plot.ly"
       },
       "data": [
        {
         "hoverinfo": "text",
         "marker": {
          "color": "rgb(0,116,217)"
         },
         "mode": "lines",
         "type": "scatter",
         "x": [
          25,
          25,
          35,
          35
         ],
         "xaxis": "x",
         "y": [
          0,
          0.17422385269037688,
          0.17422385269037688,
          0
         ],
         "yaxis": "y"
        },
        {
         "hoverinfo": "text",
         "marker": {
          "color": "rgb(0,116,217)"
         },
         "mode": "lines",
         "type": "scatter",
         "x": [
          15,
          15,
          30,
          30
         ],
         "xaxis": "x",
         "y": [
          0,
          0.38374369539585446,
          0.38374369539585446,
          0.17422385269037688
         ],
         "yaxis": "y"
        },
        {
         "hoverinfo": "text",
         "marker": {
          "color": "rgb(0,116,217)"
         },
         "mode": "lines",
         "type": "scatter",
         "x": [
          55,
          55,
          65,
          65
         ],
         "xaxis": "x",
         "y": [
          0,
          0.07319361257252498,
          0.07319361257252498,
          0
         ],
         "yaxis": "y"
        },
        {
         "hoverinfo": "text",
         "marker": {
          "color": "rgb(0,116,217)"
         },
         "mode": "lines",
         "type": "scatter",
         "x": [
          45,
          45,
          60,
          60
         ],
         "xaxis": "x",
         "y": [
          0,
          0.45738576876521575,
          0.45738576876521575,
          0.07319361257252498
         ],
         "yaxis": "y"
        },
        {
         "hoverinfo": "text",
         "marker": {
          "color": "rgb(0,116,217)"
         },
         "mode": "lines",
         "type": "scatter",
         "x": [
          22.5,
          22.5,
          52.5,
          52.5
         ],
         "xaxis": "x",
         "y": [
          0.38374369539585446,
          0.7092374678608776,
          0.7092374678608776,
          0.45738576876521575
         ],
         "yaxis": "y"
        },
        {
         "hoverinfo": "text",
         "marker": {
          "color": "rgb(0,116,217)"
         },
         "mode": "lines",
         "type": "scatter",
         "x": [
          5,
          5,
          37.5,
          37.5
         ],
         "xaxis": "x",
         "y": [
          0,
          1.2353990195988578,
          1.2353990195988578,
          0.7092374678608776
         ],
         "yaxis": "y"
        },
        {
         "hoverinfo": "text",
         "marker": {
          "color": "rgb(0,116,217)"
         },
         "mode": "lines",
         "type": "scatter",
         "x": [
          85,
          85,
          95,
          95
         ],
         "xaxis": "x",
         "y": [
          0,
          0.1397597201570749,
          0.1397597201570749,
          0
         ],
         "yaxis": "y"
        },
        {
         "hoverinfo": "text",
         "marker": {
          "color": "rgb(0,116,217)"
         },
         "mode": "lines",
         "type": "scatter",
         "x": [
          75,
          75,
          90,
          90
         ],
         "xaxis": "x",
         "y": [
          0,
          0.7064096921199915,
          0.7064096921199915,
          0.1397597201570749
         ],
         "yaxis": "y"
        },
        {
         "hoverinfo": "text",
         "marker": {
          "color": "rgb(0,116,217)"
         },
         "mode": "lines",
         "type": "scatter",
         "x": [
          105,
          105,
          115,
          115
         ],
         "xaxis": "x",
         "y": [
          0,
          0.32601940729911566,
          0.32601940729911566,
          0
         ],
         "yaxis": "y"
        },
        {
         "hoverinfo": "text",
         "marker": {
          "color": "rgb(0,116,217)"
         },
         "mode": "lines",
         "type": "scatter",
         "x": [
          145,
          145,
          155,
          155
         ],
         "xaxis": "x",
         "y": [
          0,
          0.16859051404210942,
          0.16859051404210942,
          0
         ],
         "yaxis": "y"
        },
        {
         "hoverinfo": "text",
         "marker": {
          "color": "rgb(0,116,217)"
         },
         "mode": "lines",
         "type": "scatter",
         "x": [
          135,
          135,
          150,
          150
         ],
         "xaxis": "x",
         "y": [
          0,
          0.19625016991683525,
          0.19625016991683525,
          0.16859051404210942
         ],
         "yaxis": "y"
        },
        {
         "hoverinfo": "text",
         "marker": {
          "color": "rgb(0,116,217)"
         },
         "mode": "lines",
         "type": "scatter",
         "x": [
          125,
          125,
          142.5,
          142.5
         ],
         "xaxis": "x",
         "y": [
          0,
          0.3333967025086719,
          0.3333967025086719,
          0.19625016991683525
         ],
         "yaxis": "y"
        },
        {
         "hoverinfo": "text",
         "marker": {
          "color": "rgb(0,116,217)"
         },
         "mode": "lines",
         "type": "scatter",
         "x": [
          110,
          110,
          133.75,
          133.75
         ],
         "xaxis": "x",
         "y": [
          0.32601940729911566,
          0.701652243972899,
          0.701652243972899,
          0.3333967025086719
         ],
         "yaxis": "y"
        },
        {
         "hoverinfo": "text",
         "marker": {
          "color": "rgb(0,116,217)"
         },
         "mode": "lines",
         "type": "scatter",
         "x": [
          175,
          175,
          185,
          185
         ],
         "xaxis": "x",
         "y": [
          0,
          0.14692610447676588,
          0.14692610447676588,
          0
         ],
         "yaxis": "y"
        },
        {
         "hoverinfo": "text",
         "marker": {
          "color": "rgb(0,116,217)"
         },
         "mode": "lines",
         "type": "scatter",
         "x": [
          165,
          165,
          180,
          180
         ],
         "xaxis": "x",
         "y": [
          0,
          0.31179555833794137,
          0.31179555833794137,
          0.14692610447676588
         ],
         "yaxis": "y"
        },
        {
         "hoverinfo": "text",
         "marker": {
          "color": "rgb(0,116,217)"
         },
         "mode": "lines",
         "type": "scatter",
         "x": [
          215,
          215,
          225,
          225
         ],
         "xaxis": "x",
         "y": [
          0,
          0.13710992661168878,
          0.13710992661168878,
          0
         ],
         "yaxis": "y"
        },
        {
         "hoverinfo": "text",
         "marker": {
          "color": "rgb(0,116,217)"
         },
         "mode": "lines",
         "type": "scatter",
         "x": [
          205,
          205,
          220,
          220
         ],
         "xaxis": "x",
         "y": [
          0,
          0.32785699012283254,
          0.32785699012283254,
          0.13710992661168878
         ],
         "yaxis": "y"
        },
        {
         "hoverinfo": "text",
         "marker": {
          "color": "rgb(0,116,217)"
         },
         "mode": "lines",
         "type": "scatter",
         "x": [
          195,
          195,
          212.5,
          212.5
         ],
         "xaxis": "x",
         "y": [
          0,
          0.4019296896133177,
          0.4019296896133177,
          0.32785699012283254
         ],
         "yaxis": "y"
        },
        {
         "hoverinfo": "text",
         "marker": {
          "color": "rgb(0,116,217)"
         },
         "mode": "lines",
         "type": "scatter",
         "x": [
          172.5,
          172.5,
          203.75,
          203.75
         ],
         "xaxis": "x",
         "y": [
          0.31179555833794137,
          0.6189575064916504,
          0.6189575064916504,
          0.4019296896133177
         ],
         "yaxis": "y"
        },
        {
         "hoverinfo": "text",
         "marker": {
          "color": "rgb(0,116,217)"
         },
         "mode": "lines",
         "type": "scatter",
         "x": [
          245,
          245,
          255,
          255
         ],
         "xaxis": "x",
         "y": [
          0,
          0.04280635802071503,
          0.04280635802071503,
          0
         ],
         "yaxis": "y"
        },
        {
         "hoverinfo": "text",
         "marker": {
          "color": "rgb(0,116,217)"
         },
         "mode": "lines",
         "type": "scatter",
         "x": [
          265,
          265,
          275,
          275
         ],
         "xaxis": "x",
         "y": [
          0,
          0.06306517628686388,
          0.06306517628686388,
          0
         ],
         "yaxis": "y"
        },
        {
         "hoverinfo": "text",
         "marker": {
          "color": "rgb(0,116,217)"
         },
         "mode": "lines",
         "type": "scatter",
         "x": [
          250,
          250,
          270,
          270
         ],
         "xaxis": "x",
         "y": [
          0.04280635802071503,
          0.18851634764369515,
          0.18851634764369515,
          0.06306517628686388
         ],
         "yaxis": "y"
        },
        {
         "hoverinfo": "text",
         "marker": {
          "color": "rgb(0,116,217)"
         },
         "mode": "lines",
         "type": "scatter",
         "x": [
          235,
          235,
          260,
          260
         ],
         "xaxis": "x",
         "y": [
          0,
          0.23451818445284747,
          0.23451818445284747,
          0.18851634764369515
         ],
         "yaxis": "y"
        },
        {
         "hoverinfo": "text",
         "marker": {
          "color": "rgb(0,116,217)"
         },
         "mode": "lines",
         "type": "scatter",
         "x": [
          295,
          295,
          305,
          305
         ],
         "xaxis": "x",
         "y": [
          0,
          0.03437215474252754,
          0.03437215474252754,
          0
         ],
         "yaxis": "y"
        },
        {
         "hoverinfo": "text",
         "marker": {
          "color": "rgb(0,116,217)"
         },
         "mode": "lines",
         "type": "scatter",
         "x": [
          285,
          285,
          300,
          300
         ],
         "xaxis": "x",
         "y": [
          0,
          0.12422212395013259,
          0.12422212395013259,
          0.03437215474252754
         ],
         "yaxis": "y"
        },
        {
         "hoverinfo": "text",
         "marker": {
          "color": "rgb(0,116,217)"
         },
         "mode": "lines",
         "type": "scatter",
         "x": [
          335,
          335,
          345,
          345
         ],
         "xaxis": "x",
         "y": [
          0,
          0.05139741229310818,
          0.05139741229310818,
          0
         ],
         "yaxis": "y"
        },
        {
         "hoverinfo": "text",
         "marker": {
          "color": "rgb(0,116,217)"
         },
         "mode": "lines",
         "type": "scatter",
         "x": [
          325,
          325,
          340,
          340
         ],
         "xaxis": "x",
         "y": [
          0,
          0.13615265946754623,
          0.13615265946754623,
          0.05139741229310818
         ],
         "yaxis": "y"
        },
        {
         "hoverinfo": "text",
         "marker": {
          "color": "rgb(0,116,217)"
         },
         "mode": "lines",
         "type": "scatter",
         "x": [
          315,
          315,
          332.5,
          332.5
         ],
         "xaxis": "x",
         "y": [
          0,
          0.17403345329248474,
          0.17403345329248474,
          0.13615265946754623
         ],
         "yaxis": "y"
        },
        {
         "hoverinfo": "text",
         "marker": {
          "color": "rgb(0,116,217)"
         },
         "mode": "lines",
         "type": "scatter",
         "x": [
          292.5,
          292.5,
          323.75,
          323.75
         ],
         "xaxis": "x",
         "y": [
          0.12422212395013259,
          0.39640032045971585,
          0.39640032045971585,
          0.17403345329248474
         ],
         "yaxis": "y"
        },
        {
         "hoverinfo": "text",
         "marker": {
          "color": "rgb(0,116,217)"
         },
         "mode": "lines",
         "type": "scatter",
         "x": [
          247.5,
          247.5,
          308.125,
          308.125
         ],
         "xaxis": "x",
         "y": [
          0.23451818445284747,
          0.7690855005091023,
          0.7690855005091023,
          0.39640032045971585
         ],
         "yaxis": "y"
        },
        {
         "hoverinfo": "text",
         "marker": {
          "color": "rgb(0,116,217)"
         },
         "mode": "lines",
         "type": "scatter",
         "x": [
          188.125,
          188.125,
          277.8125,
          277.8125
         ],
         "xaxis": "x",
         "y": [
          0.6189575064916504,
          0.954269763701286,
          0.954269763701286,
          0.7690855005091023
         ],
         "yaxis": "y"
        },
        {
         "hoverinfo": "text",
         "marker": {
          "color": "rgb(0,116,217)"
         },
         "mode": "lines",
         "type": "scatter",
         "x": [
          121.875,
          121.875,
          232.96875,
          232.96875
         ],
         "xaxis": "x",
         "y": [
          0.701652243972899,
          1.6115535631620233,
          1.6115535631620233,
          0.954269763701286
         ],
         "yaxis": "y"
        },
        {
         "hoverinfo": "text",
         "marker": {
          "color": "rgb(0,116,217)"
         },
         "mode": "lines",
         "type": "scatter",
         "x": [
          82.5,
          82.5,
          177.421875,
          177.421875
         ],
         "xaxis": "x",
         "y": [
          0.7064096921199915,
          2.7437144822874497,
          2.7437144822874497,
          1.6115535631620233
         ],
         "yaxis": "y"
        },
        {
         "hoverinfo": "text",
         "marker": {
          "color": "rgb(0,116,217)"
         },
         "mode": "lines",
         "type": "scatter",
         "x": [
          21.25,
          21.25,
          129.9609375,
          129.9609375
         ],
         "xaxis": "x",
         "y": [
          1.2353990195988578,
          3.002414431511062,
          3.002414431511062,
          2.7437144822874497
         ],
         "yaxis": "y"
        },
        {
         "hoverinfo": "text",
         "marker": {
          "color": "rgb(0,116,217)"
         },
         "mode": "lines",
         "type": "scatter",
         "x": [
          375,
          375,
          385,
          385
         ],
         "xaxis": "x",
         "y": [
          0,
          0.3842101223880756,
          0.3842101223880756,
          0
         ],
         "yaxis": "y"
        },
        {
         "hoverinfo": "text",
         "marker": {
          "color": "rgb(0,116,217)"
         },
         "mode": "lines",
         "type": "scatter",
         "x": [
          365,
          365,
          380,
          380
         ],
         "xaxis": "x",
         "y": [
          0,
          0.4204342005618247,
          0.4204342005618247,
          0.3842101223880756
         ],
         "yaxis": "y"
        },
        {
         "hoverinfo": "text",
         "marker": {
          "color": "rgb(0,116,217)"
         },
         "mode": "lines",
         "type": "scatter",
         "x": [
          355,
          355,
          372.5,
          372.5
         ],
         "xaxis": "x",
         "y": [
          0,
          0.9624508321318384,
          0.9624508321318384,
          0.4204342005618247
         ],
         "yaxis": "y"
        },
        {
         "hoverinfo": "text",
         "marker": {
          "color": "rgb(0,116,217)"
         },
         "mode": "lines",
         "type": "scatter",
         "x": [
          395,
          395,
          405,
          405
         ],
         "xaxis": "x",
         "y": [
          0,
          0.041966867284866344,
          0.041966867284866344,
          0
         ],
         "yaxis": "y"
        },
        {
         "hoverinfo": "text",
         "marker": {
          "color": "rgb(0,116,217)"
         },
         "mode": "lines",
         "type": "scatter",
         "x": [
          415,
          415,
          425,
          425
         ],
         "xaxis": "x",
         "y": [
          0,
          0.07630648304882542,
          0.07630648304882542,
          0
         ],
         "yaxis": "y"
        },
        {
         "hoverinfo": "text",
         "marker": {
          "color": "rgb(0,116,217)"
         },
         "mode": "lines",
         "type": "scatter",
         "x": [
          435,
          435,
          445,
          445
         ],
         "xaxis": "x",
         "y": [
          0,
          0.10523708126474846,
          0.10523708126474846,
          0
         ],
         "yaxis": "y"
        },
        {
         "hoverinfo": "text",
         "marker": {
          "color": "rgb(0,116,217)"
         },
         "mode": "lines",
         "type": "scatter",
         "x": [
          420,
          420,
          440,
          440
         ],
         "xaxis": "x",
         "y": [
          0.07630648304882542,
          0.23028186877490925,
          0.23028186877490925,
          0.10523708126474846
         ],
         "yaxis": "y"
        },
        {
         "hoverinfo": "text",
         "marker": {
          "color": "rgb(0,116,217)"
         },
         "mode": "lines",
         "type": "scatter",
         "x": [
          400,
          400,
          430,
          430
         ],
         "xaxis": "x",
         "y": [
          0.041966867284866344,
          0.26545343806974536,
          0.26545343806974536,
          0.23028186877490925
         ],
         "yaxis": "y"
        },
        {
         "hoverinfo": "text",
         "marker": {
          "color": "rgb(0,116,217)"
         },
         "mode": "lines",
         "type": "scatter",
         "x": [
          465,
          465,
          475,
          475
         ],
         "xaxis": "x",
         "y": [
          0,
          0.13230071340335986,
          0.13230071340335986,
          0
         ],
         "yaxis": "y"
        },
        {
         "hoverinfo": "text",
         "marker": {
          "color": "rgb(0,116,217)"
         },
         "mode": "lines",
         "type": "scatter",
         "x": [
          455,
          455,
          470,
          470
         ],
         "xaxis": "x",
         "y": [
          0,
          0.3195470042292055,
          0.3195470042292055,
          0.13230071340335986
         ],
         "yaxis": "y"
        },
        {
         "hoverinfo": "text",
         "marker": {
          "color": "rgb(0,116,217)"
         },
         "mode": "lines",
         "type": "scatter",
         "x": [
          415,
          415,
          462.5,
          462.5
         ],
         "xaxis": "x",
         "y": [
          0.26545343806974536,
          0.5817597519203274,
          0.5817597519203274,
          0.3195470042292055
         ],
         "yaxis": "y"
        },
        {
         "hoverinfo": "text",
         "marker": {
          "color": "rgb(0,116,217)"
         },
         "mode": "lines",
         "type": "scatter",
         "x": [
          505,
          505,
          515,
          515
         ],
         "xaxis": "x",
         "y": [
          0,
          0.04365285472512029,
          0.04365285472512029,
          0
         ],
         "yaxis": "y"
        },
        {
         "hoverinfo": "text",
         "marker": {
          "color": "rgb(0,116,217)"
         },
         "mode": "lines",
         "type": "scatter",
         "x": [
          525,
          525,
          535,
          535
         ],
         "xaxis": "x",
         "y": [
          0,
          0.043652854725122765,
          0.043652854725122765,
          0
         ],
         "yaxis": "y"
        },
        {
         "hoverinfo": "text",
         "marker": {
          "color": "rgb(0,116,217)"
         },
         "mode": "lines",
         "type": "scatter",
         "x": [
          510,
          510,
          530,
          530
         ],
         "xaxis": "x",
         "y": [
          0.04365285472512029,
          0.14513097895344765,
          0.14513097895344765,
          0.043652854725122765
         ],
         "yaxis": "y"
        },
        {
         "hoverinfo": "text",
         "marker": {
          "color": "rgb(0,116,217)"
         },
         "mode": "lines",
         "type": "scatter",
         "x": [
          495,
          495,
          520,
          520
         ],
         "xaxis": "x",
         "y": [
          0,
          0.25532273563188645,
          0.25532273563188645,
          0.14513097895344765
         ],
         "yaxis": "y"
        },
        {
         "hoverinfo": "text",
         "marker": {
          "color": "rgb(0,116,217)"
         },
         "mode": "lines",
         "type": "scatter",
         "x": [
          565,
          565,
          575,
          575
         ],
         "xaxis": "x",
         "y": [
          0,
          0.08337577355010863,
          0.08337577355010863,
          0
         ],
         "yaxis": "y"
        },
        {
         "hoverinfo": "text",
         "marker": {
          "color": "rgb(0,116,217)"
         },
         "mode": "lines",
         "type": "scatter",
         "x": [
          555,
          555,
          570,
          570
         ],
         "xaxis": "x",
         "y": [
          0,
          0.14223637132454772,
          0.14223637132454772,
          0.08337577355010863
         ],
         "yaxis": "y"
        },
        {
         "hoverinfo": "text",
         "marker": {
          "color": "rgb(0,116,217)"
         },
         "mode": "lines",
         "type": "scatter",
         "x": [
          545,
          545,
          562.5,
          562.5
         ],
         "xaxis": "x",
         "y": [
          0,
          0.3203095029423259,
          0.3203095029423259,
          0.14223637132454772
         ],
         "yaxis": "y"
        },
        {
         "hoverinfo": "text",
         "marker": {
          "color": "rgb(0,116,217)"
         },
         "mode": "lines",
         "type": "scatter",
         "x": [
          507.5,
          507.5,
          553.75,
          553.75
         ],
         "xaxis": "x",
         "y": [
          0.25532273563188645,
          0.6022795159216788,
          0.6022795159216788,
          0.3203095029423259
         ],
         "yaxis": "y"
        },
        {
         "hoverinfo": "text",
         "marker": {
          "color": "rgb(0,116,217)"
         },
         "mode": "lines",
         "type": "scatter",
         "x": [
          605,
          605,
          615,
          615
         ],
         "xaxis": "x",
         "y": [
          0,
          0.05331907673260585,
          0.05331907673260585,
          0
         ],
         "yaxis": "y"
        },
        {
         "hoverinfo": "text",
         "marker": {
          "color": "rgb(0,116,217)"
         },
         "mode": "lines",
         "type": "scatter",
         "x": [
          595,
          595,
          610,
          610
         ],
         "xaxis": "x",
         "y": [
          0,
          0.12145780184386158,
          0.12145780184386158,
          0.05331907673260585
         ],
         "yaxis": "y"
        },
        {
         "hoverinfo": "text",
         "marker": {
          "color": "rgb(0,116,217)"
         },
         "mode": "lines",
         "type": "scatter",
         "x": [
          585,
          585,
          602.5,
          602.5
         ],
         "xaxis": "x",
         "y": [
          0,
          0.3964619758082052,
          0.3964619758082052,
          0.12145780184386158
         ],
         "yaxis": "y"
        },
        {
         "hoverinfo": "text",
         "marker": {
          "color": "rgb(0,116,217)"
         },
         "mode": "lines",
         "type": "scatter",
         "x": [
          625,
          625,
          635,
          635
         ],
         "xaxis": "x",
         "y": [
          0,
          0.21663725311855783,
          0.21663725311855783,
          0
         ],
         "yaxis": "y"
        },
        {
         "hoverinfo": "text",
         "marker": {
          "color": "rgb(0,116,217)"
         },
         "mode": "lines",
         "type": "scatter",
         "x": [
          665,
          665,
          675,
          675
         ],
         "xaxis": "x",
         "y": [
          0,
          0.08561271604142914,
          0.08561271604142914,
          0
         ],
         "yaxis": "y"
        },
        {
         "hoverinfo": "text",
         "marker": {
          "color": "rgb(0,116,217)"
         },
         "mode": "lines",
         "type": "scatter",
         "x": [
          655,
          655,
          670,
          670
         ],
         "xaxis": "x",
         "y": [
          0,
          0.12913046641490072,
          0.12913046641490072,
          0.08561271604142914
         ],
         "yaxis": "y"
        },
        {
         "hoverinfo": "text",
         "marker": {
          "color": "rgb(0,116,217)"
         },
         "mode": "lines",
         "type": "scatter",
         "x": [
          645,
          645,
          662.5,
          662.5
         ],
         "xaxis": "x",
         "y": [
          0,
          0.2735606229099886,
          0.2735606229099886,
          0.12913046641490072
         ],
         "yaxis": "y"
        },
        {
         "hoverinfo": "text",
         "marker": {
          "color": "rgb(0,116,217)"
         },
         "mode": "lines",
         "type": "scatter",
         "x": [
          630,
          630,
          653.75,
          653.75
         ],
         "xaxis": "x",
         "y": [
          0.21663725311855783,
          0.43254895124367837,
          0.43254895124367837,
          0.2735606229099886
         ],
         "yaxis": "y"
        },
        {
         "hoverinfo": "text",
         "marker": {
          "color": "rgb(0,116,217)"
         },
         "mode": "lines",
         "type": "scatter",
         "x": [
          593.75,
          593.75,
          641.875,
          641.875
         ],
         "xaxis": "x",
         "y": [
          0.3964619758082052,
          0.6261276907800095,
          0.6261276907800095,
          0.43254895124367837
         ],
         "yaxis": "y"
        },
        {
         "hoverinfo": "text",
         "marker": {
          "color": "rgb(0,116,217)"
         },
         "mode": "lines",
         "type": "scatter",
         "x": [
          530.625,
          530.625,
          617.8125,
          617.8125
         ],
         "xaxis": "x",
         "y": [
          0.6022795159216788,
          0.8851341628602789,
          0.8851341628602789,
          0.6261276907800095
         ],
         "yaxis": "y"
        },
        {
         "hoverinfo": "text",
         "marker": {
          "color": "rgb(0,116,217)"
         },
         "mode": "lines",
         "type": "scatter",
         "x": [
          485,
          485,
          574.21875,
          574.21875
         ],
         "xaxis": "x",
         "y": [
          0,
          1.0276987650236062,
          1.0276987650236062,
          0.8851341628602789
         ],
         "yaxis": "y"
        },
        {
         "hoverinfo": "text",
         "marker": {
          "color": "rgb(0,116,217)"
         },
         "mode": "lines",
         "type": "scatter",
         "x": [
          438.75,
          438.75,
          529.609375,
          529.609375
         ],
         "xaxis": "x",
         "y": [
          0.5817597519203274,
          1.7086794888692807,
          1.7086794888692807,
          1.0276987650236062
         ],
         "yaxis": "y"
        },
        {
         "hoverinfo": "text",
         "marker": {
          "color": "rgb(0,116,217)"
         },
         "mode": "lines",
         "type": "scatter",
         "x": [
          363.75,
          363.75,
          484.1796875,
          484.1796875
         ],
         "xaxis": "x",
         "y": [
          0.9624508321318384,
          2.9069888715125742,
          2.9069888715125742,
          1.7086794888692807
         ],
         "yaxis": "y"
        },
        {
         "hoverinfo": "text",
         "marker": {
          "color": "rgb(0,116,217)"
         },
         "mode": "lines",
         "type": "scatter",
         "x": [
          705,
          705,
          715,
          715
         ],
         "xaxis": "x",
         "y": [
          0,
          0.2113490276669673,
          0.2113490276669673,
          0
         ],
         "yaxis": "y"
        },
        {
         "hoverinfo": "text",
         "marker": {
          "color": "rgb(0,116,217)"
         },
         "mode": "lines",
         "type": "scatter",
         "x": [
          695,
          695,
          710,
          710
         ],
         "xaxis": "x",
         "y": [
          0,
          0.3365510487865419,
          0.3365510487865419,
          0.2113490276669673
         ],
         "yaxis": "y"
        },
        {
         "hoverinfo": "text",
         "marker": {
          "color": "rgb(0,116,217)"
         },
         "mode": "lines",
         "type": "scatter",
         "x": [
          745,
          745,
          755,
          755
         ],
         "xaxis": "x",
         "y": [
          0,
          0.053319076732607155,
          0.053319076732607155,
          0
         ],
         "yaxis": "y"
        },
        {
         "hoverinfo": "text",
         "marker": {
          "color": "rgb(0,116,217)"
         },
         "mode": "lines",
         "type": "scatter",
         "x": [
          735,
          735,
          750,
          750
         ],
         "xaxis": "x",
         "y": [
          0,
          0.1378482933835457,
          0.1378482933835457,
          0.053319076732607155
         ],
         "yaxis": "y"
        },
        {
         "hoverinfo": "text",
         "marker": {
          "color": "rgb(0,116,217)"
         },
         "mode": "lines",
         "type": "scatter",
         "x": [
          725,
          725,
          742.5,
          742.5
         ],
         "xaxis": "x",
         "y": [
          0,
          0.32070277540188236,
          0.32070277540188236,
          0.1378482933835457
         ],
         "yaxis": "y"
        },
        {
         "hoverinfo": "text",
         "marker": {
          "color": "rgb(0,116,217)"
         },
         "mode": "lines",
         "type": "scatter",
         "x": [
          775,
          775,
          785,
          785
         ],
         "xaxis": "x",
         "y": [
          0,
          0.03815324152441101,
          0.03815324152441101,
          0
         ],
         "yaxis": "y"
        },
        {
         "hoverinfo": "text",
         "marker": {
          "color": "rgb(0,116,217)"
         },
         "mode": "lines",
         "type": "scatter",
         "x": [
          765,
          765,
          780,
          780
         ],
         "xaxis": "x",
         "y": [
          0,
          0.1451309789534474,
          0.1451309789534474,
          0.03815324152441101
         ],
         "yaxis": "y"
        },
        {
         "hoverinfo": "text",
         "marker": {
          "color": "rgb(0,116,217)"
         },
         "mode": "lines",
         "type": "scatter",
         "x": [
          815,
          815,
          825,
          825
         ],
         "xaxis": "x",
         "y": [
          0,
          0,
          0,
          0
         ],
         "yaxis": "y"
        },
        {
         "hoverinfo": "text",
         "marker": {
          "color": "rgb(0,116,217)"
         },
         "mode": "lines",
         "type": "scatter",
         "x": [
          805,
          805,
          820,
          820
         ],
         "xaxis": "x",
         "y": [
          0,
          0,
          0,
          0
         ],
         "yaxis": "y"
        },
        {
         "hoverinfo": "text",
         "marker": {
          "color": "rgb(0,116,217)"
         },
         "mode": "lines",
         "type": "scatter",
         "x": [
          795,
          795,
          812.5,
          812.5
         ],
         "xaxis": "x",
         "y": [
          0,
          0.056512855155861665,
          0.056512855155861665,
          0
         ],
         "yaxis": "y"
        },
        {
         "hoverinfo": "text",
         "marker": {
          "color": "rgb(0,116,217)"
         },
         "mode": "lines",
         "type": "scatter",
         "x": [
          835,
          835,
          845,
          845
         ],
         "xaxis": "x",
         "y": [
          0,
          0.1559086431987808,
          0.1559086431987808,
          0
         ],
         "yaxis": "y"
        },
        {
         "hoverinfo": "text",
         "marker": {
          "color": "rgb(0,116,217)"
         },
         "mode": "lines",
         "type": "scatter",
         "x": [
          803.75,
          803.75,
          840,
          840
         ],
         "xaxis": "x",
         "y": [
          0.056512855155861665,
          0.26288444146414375,
          0.26288444146414375,
          0.1559086431987808
         ],
         "yaxis": "y"
        },
        {
         "hoverinfo": "text",
         "marker": {
          "color": "rgb(0,116,217)"
         },
         "mode": "lines",
         "type": "scatter",
         "x": [
          772.5,
          772.5,
          821.875,
          821.875
         ],
         "xaxis": "x",
         "y": [
          0.1451309789534474,
          0.34869336804184503,
          0.34869336804184503,
          0.26288444146414375
         ],
         "yaxis": "y"
        },
        {
         "hoverinfo": "text",
         "marker": {
          "color": "rgb(0,116,217)"
         },
         "mode": "lines",
         "type": "scatter",
         "x": [
          733.75,
          733.75,
          797.1875,
          797.1875
         ],
         "xaxis": "x",
         "y": [
          0.32070277540188236,
          0.6202520639239193,
          0.6202520639239193,
          0.34869336804184503
         ],
         "yaxis": "y"
        },
        {
         "hoverinfo": "text",
         "marker": {
          "color": "rgb(0,116,217)"
         },
         "mode": "lines",
         "type": "scatter",
         "x": [
          702.5,
          702.5,
          765.46875,
          765.46875
         ],
         "xaxis": "x",
         "y": [
          0.3365510487865419,
          0.7836907919106652,
          0.7836907919106652,
          0.6202520639239193
         ],
         "yaxis": "y"
        },
        {
         "hoverinfo": "text",
         "marker": {
          "color": "rgb(0,116,217)"
         },
         "mode": "lines",
         "type": "scatter",
         "x": [
          685,
          685,
          733.984375,
          733.984375
         ],
         "xaxis": "x",
         "y": [
          0,
          2.069589191890012,
          2.069589191890012,
          0.7836907919106652
         ],
         "yaxis": "y"
        },
        {
         "hoverinfo": "text",
         "marker": {
          "color": "rgb(0,116,217)"
         },
         "mode": "lines",
         "type": "scatter",
         "x": [
          865,
          865,
          875,
          875
         ],
         "xaxis": "x",
         "y": [
          0,
          0.09268419554363103,
          0.09268419554363103,
          0
         ],
         "yaxis": "y"
        },
        {
         "hoverinfo": "text",
         "marker": {
          "color": "rgb(0,116,217)"
         },
         "mode": "lines",
         "type": "scatter",
         "x": [
          855,
          855,
          870,
          870
         ],
         "xaxis": "x",
         "y": [
          0,
          0.3914972780920585,
          0.3914972780920585,
          0.09268419554363103
         ],
         "yaxis": "y"
        },
        {
         "hoverinfo": "text",
         "marker": {
          "color": "rgb(0,116,217)"
         },
         "mode": "lines",
         "type": "scatter",
         "x": [
          905,
          905,
          915,
          915
         ],
         "xaxis": "x",
         "y": [
          0,
          0.20980226479245007,
          0.20980226479245007,
          0
         ],
         "yaxis": "y"
        },
        {
         "hoverinfo": "text",
         "marker": {
          "color": "rgb(0,116,217)"
         },
         "mode": "lines",
         "type": "scatter",
         "x": [
          895,
          895,
          910,
          910
         ],
         "xaxis": "x",
         "y": [
          0,
          0.4856794131982542,
          0.4856794131982542,
          0.20980226479245007
         ],
         "yaxis": "y"
        },
        {
         "hoverinfo": "text",
         "marker": {
          "color": "rgb(0,116,217)"
         },
         "mode": "lines",
         "type": "scatter",
         "x": [
          935,
          935,
          945,
          945
         ],
         "xaxis": "x",
         "y": [
          0,
          0.15499823689709513,
          0.15499823689709513,
          0
         ],
         "yaxis": "y"
        },
        {
         "hoverinfo": "text",
         "marker": {
          "color": "rgb(0,116,217)"
         },
         "mode": "lines",
         "type": "scatter",
         "x": [
          925,
          925,
          940,
          940
         ],
         "xaxis": "x",
         "y": [
          0,
          0.2872280521239677,
          0.2872280521239677,
          0.15499823689709513
         ],
         "yaxis": "y"
        },
        {
         "hoverinfo": "text",
         "marker": {
          "color": "rgb(0,116,217)"
         },
         "mode": "lines",
         "type": "scatter",
         "x": [
          955,
          955,
          965,
          965
         ],
         "xaxis": "x",
         "y": [
          0,
          0.10786210118850602,
          0.10786210118850602,
          0
         ],
         "yaxis": "y"
        },
        {
         "hoverinfo": "text",
         "marker": {
          "color": "rgb(0,116,217)"
         },
         "mode": "lines",
         "type": "scatter",
         "x": [
          975,
          975,
          985,
          985
         ],
         "xaxis": "x",
         "y": [
          0,
          0.12145780184386165,
          0.12145780184386165,
          0
         ],
         "yaxis": "y"
        },
        {
         "hoverinfo": "text",
         "marker": {
          "color": "rgb(0,116,217)"
         },
         "mode": "lines",
         "type": "scatter",
         "x": [
          960,
          960,
          980,
          980
         ],
         "xaxis": "x",
         "y": [
          0.10786210118850602,
          0.3572264654034572,
          0.3572264654034572,
          0.12145780184386165
         ],
         "yaxis": "y"
        },
        {
         "hoverinfo": "text",
         "marker": {
          "color": "rgb(0,116,217)"
         },
         "mode": "lines",
         "type": "scatter",
         "x": [
          932.5,
          932.5,
          970,
          970
         ],
         "xaxis": "x",
         "y": [
          0.2872280521239677,
          0.6133451557743769,
          0.6133451557743769,
          0.3572264654034572
         ],
         "yaxis": "y"
        },
        {
         "hoverinfo": "text",
         "marker": {
          "color": "rgb(0,116,217)"
         },
         "mode": "lines",
         "type": "scatter",
         "x": [
          902.5,
          902.5,
          951.25,
          951.25
         ],
         "xaxis": "x",
         "y": [
          0.4856794131982542,
          1.0522663473970169,
          1.0522663473970169,
          0.6133451557743769
         ],
         "yaxis": "y"
        },
        {
         "hoverinfo": "text",
         "marker": {
          "color": "rgb(0,116,217)"
         },
         "mode": "lines",
         "type": "scatter",
         "x": [
          885,
          885,
          926.875,
          926.875
         ],
         "xaxis": "x",
         "y": [
          0,
          1.3872049254999175,
          1.3872049254999175,
          1.0522663473970169
         ],
         "yaxis": "y"
        },
        {
         "hoverinfo": "text",
         "marker": {
          "color": "rgb(0,116,217)"
         },
         "mode": "lines",
         "type": "scatter",
         "x": [
          862.5,
          862.5,
          905.9375,
          905.9375
         ],
         "xaxis": "x",
         "y": [
          0.3914972780920585,
          1.7567567971940723,
          1.7567567971940723,
          1.3872049254999175
         ],
         "yaxis": "y"
        },
        {
         "hoverinfo": "text",
         "marker": {
          "color": "rgb(0,116,217)"
         },
         "mode": "lines",
         "type": "scatter",
         "x": [
          995,
          995,
          1005,
          1005
         ],
         "xaxis": "x",
         "y": [
          0,
          0.13230071340336036,
          0.13230071340336036,
          0
         ],
         "yaxis": "y"
        },
        {
         "hoverinfo": "text",
         "marker": {
          "color": "rgb(0,116,217)"
         },
         "mode": "lines",
         "type": "scatter",
         "x": [
          1025,
          1025,
          1035,
          1035
         ],
         "xaxis": "x",
         "y": [
          0,
          0.08393373456973272,
          0.08393373456973272,
          0
         ],
         "yaxis": "y"
        },
        {
         "hoverinfo": "text",
         "marker": {
          "color": "rgb(0,116,217)"
         },
         "mode": "lines",
         "type": "scatter",
         "x": [
          1015,
          1015,
          1030,
          1030
         ],
         "xaxis": "x",
         "y": [
          0,
          0.14415651931954457,
          0.14415651931954457,
          0.08393373456973272
         ],
         "yaxis": "y"
        },
        {
         "hoverinfo": "text",
         "marker": {
          "color": "rgb(0,116,217)"
         },
         "mode": "lines",
         "type": "scatter",
         "x": [
          1000,
          1000,
          1022.5,
          1022.5
         ],
         "xaxis": "x",
         "y": [
          0.13230071340336036,
          0.3053794702742378,
          0.3053794702742378,
          0.14415651931954457
         ],
         "yaxis": "y"
        },
        {
         "hoverinfo": "text",
         "marker": {
          "color": "rgb(0,116,217)"
         },
         "mode": "lines",
         "type": "scatter",
         "x": [
          1045,
          1045,
          1055,
          1055
         ],
         "xaxis": "x",
         "y": [
          0,
          0.059190224992167924,
          0.059190224992167924,
          0
         ],
         "yaxis": "y"
        },
        {
         "hoverinfo": "text",
         "marker": {
          "color": "rgb(0,116,217)"
         },
         "mode": "lines",
         "type": "scatter",
         "x": [
          1065,
          1065,
          1075,
          1075
         ],
         "xaxis": "x",
         "y": [
          0,
          0.14271216373112056,
          0.14271216373112056,
          0
         ],
         "yaxis": "y"
        },
        {
         "hoverinfo": "text",
         "marker": {
          "color": "rgb(0,116,217)"
         },
         "mode": "lines",
         "type": "scatter",
         "x": [
          1050,
          1050,
          1070,
          1070
         ],
         "xaxis": "x",
         "y": [
          0.059190224992167924,
          0.38342127406646553,
          0.38342127406646553,
          0.14271216373112056
         ],
         "yaxis": "y"
        },
        {
         "hoverinfo": "text",
         "marker": {
          "color": "rgb(0,116,217)"
         },
         "mode": "lines",
         "type": "scatter",
         "x": [
          1011.25,
          1011.25,
          1060,
          1060
         ],
         "xaxis": "x",
         "y": [
          0.3053794702742378,
          0.6353698952974263,
          0.6353698952974263,
          0.38342127406646553
         ],
         "yaxis": "y"
        },
        {
         "hoverinfo": "text",
         "marker": {
          "color": "rgb(0,116,217)"
         },
         "mode": "lines",
         "type": "scatter",
         "x": [
          1095,
          1095,
          1105,
          1105
         ],
         "xaxis": "x",
         "y": [
          0,
          0.043652854725123036,
          0.043652854725123036,
          0
         ],
         "yaxis": "y"
        },
        {
         "hoverinfo": "text",
         "marker": {
          "color": "rgb(0,116,217)"
         },
         "mode": "lines",
         "type": "scatter",
         "x": [
          1115,
          1115,
          1125,
          1125
         ],
         "xaxis": "x",
         "y": [
          0,
          0.09968032343222658,
          0.09968032343222658,
          0
         ],
         "yaxis": "y"
        },
        {
         "hoverinfo": "text",
         "marker": {
          "color": "rgb(0,116,217)"
         },
         "mode": "lines",
         "type": "scatter",
         "x": [
          1100,
          1100,
          1120,
          1120
         ],
         "xaxis": "x",
         "y": [
          0.043652854725123036,
          0.24610693122596586,
          0.24610693122596586,
          0.09968032343222658
         ],
         "yaxis": "y"
        },
        {
         "hoverinfo": "text",
         "marker": {
          "color": "rgb(0,116,217)"
         },
         "mode": "lines",
         "type": "scatter",
         "x": [
          1085,
          1085,
          1110,
          1110
         ],
         "xaxis": "x",
         "y": [
          0,
          0.3000016892075775,
          0.3000016892075775,
          0.24610693122596586
         ],
         "yaxis": "y"
        },
        {
         "hoverinfo": "text",
         "marker": {
          "color": "rgb(0,116,217)"
         },
         "mode": "lines",
         "type": "scatter",
         "x": [
          1135,
          1135,
          1145,
          1145
         ],
         "xaxis": "x",
         "y": [
          0,
          0.15701149474334042,
          0.15701149474334042,
          0
         ],
         "yaxis": "y"
        },
        {
         "hoverinfo": "text",
         "marker": {
          "color": "rgb(0,116,217)"
         },
         "mode": "lines",
         "type": "scatter",
         "x": [
          1155,
          1155,
          1165,
          1165
         ],
         "xaxis": "x",
         "y": [
          0,
          0.15995723019781866,
          0.15995723019781866,
          0
         ],
         "yaxis": "y"
        },
        {
         "hoverinfo": "text",
         "marker": {
          "color": "rgb(0,116,217)"
         },
         "mode": "lines",
         "type": "scatter",
         "x": [
          1175,
          1175,
          1185,
          1185
         ],
         "xaxis": "x",
         "y": [
          0,
          0.1194290364668072,
          0.1194290364668072,
          0
         ],
         "yaxis": "y"
        },
        {
         "hoverinfo": "text",
         "marker": {
          "color": "rgb(0,116,217)"
         },
         "mode": "lines",
         "type": "scatter",
         "x": [
          1205,
          1205,
          1215,
          1215
         ],
         "xaxis": "x",
         "y": [
          0,
          0.06740481035033659,
          0.06740481035033659,
          0
         ],
         "yaxis": "y"
        },
        {
         "hoverinfo": "text",
         "marker": {
          "color": "rgb(0,116,217)"
         },
         "mode": "lines",
         "type": "scatter",
         "x": [
          1195,
          1195,
          1210,
          1210
         ],
         "xaxis": "x",
         "y": [
          0,
          0.14674948296429438,
          0.14674948296429438,
          0.06740481035033659
         ],
         "yaxis": "y"
        },
        {
         "hoverinfo": "text",
         "marker": {
          "color": "rgb(0,116,217)"
         },
         "mode": "lines",
         "type": "scatter",
         "x": [
          1180,
          1180,
          1202.5,
          1202.5
         ],
         "xaxis": "x",
         "y": [
          0.1194290364668072,
          0.2548832241040139,
          0.2548832241040139,
          0.14674948296429438
         ],
         "yaxis": "y"
        },
        {
         "hoverinfo": "text",
         "marker": {
          "color": "rgb(0,116,217)"
         },
         "mode": "lines",
         "type": "scatter",
         "x": [
          1160,
          1160,
          1191.25,
          1191.25
         ],
         "xaxis": "x",
         "y": [
          0.15995723019781866,
          0.37469189758336496,
          0.37469189758336496,
          0.2548832241040139
         ],
         "yaxis": "y"
        },
        {
         "hoverinfo": "text",
         "marker": {
          "color": "rgb(0,116,217)"
         },
         "mode": "lines",
         "type": "scatter",
         "x": [
          1140,
          1140,
          1175.625,
          1175.625
         ],
         "xaxis": "x",
         "y": [
          0.15701149474334042,
          0.46905317528730206,
          0.46905317528730206,
          0.37469189758336496
         ],
         "yaxis": "y"
        },
        {
         "hoverinfo": "text",
         "marker": {
          "color": "rgb(0,116,217)"
         },
         "mode": "lines",
         "type": "scatter",
         "x": [
          1097.5,
          1097.5,
          1157.8125,
          1157.8125
         ],
         "xaxis": "x",
         "y": [
          0.3000016892075775,
          0.825003425508145,
          0.825003425508145,
          0.46905317528730206
         ],
         "yaxis": "y"
        },
        {
         "hoverinfo": "text",
         "marker": {
          "color": "rgb(0,116,217)"
         },
         "mode": "lines",
         "type": "scatter",
         "x": [
          1035.625,
          1035.625,
          1127.65625,
          1127.65625
         ],
         "xaxis": "x",
         "y": [
          0.6353698952974263,
          1.275225260514829,
          1.275225260514829,
          0.825003425508145
         ],
         "yaxis": "y"
        },
        {
         "hoverinfo": "text",
         "marker": {
          "color": "rgb(0,116,217)"
         },
         "mode": "lines",
         "type": "scatter",
         "x": [
          1235,
          1235,
          1245,
          1245
         ],
         "xaxis": "x",
         "y": [
          0,
          0.1359360020696346,
          0.1359360020696346,
          0
         ],
         "yaxis": "y"
        },
        {
         "hoverinfo": "text",
         "marker": {
          "color": "rgb(0,116,217)"
         },
         "mode": "lines",
         "type": "scatter",
         "x": [
          1225,
          1225,
          1240,
          1240
         ],
         "xaxis": "x",
         "y": [
          0,
          0.2761411221550023,
          0.2761411221550023,
          0.1359360020696346
         ],
         "yaxis": "y"
        },
        {
         "hoverinfo": "text",
         "marker": {
          "color": "rgb(0,116,217)"
         },
         "mode": "lines",
         "type": "scatter",
         "x": [
          1265,
          1265,
          1275,
          1275
         ],
         "xaxis": "x",
         "y": [
          0,
          0.06481686495779505,
          0.06481686495779505,
          0
         ],
         "yaxis": "y"
        },
        {
         "hoverinfo": "text",
         "marker": {
          "color": "rgb(0,116,217)"
         },
         "mode": "lines",
         "type": "scatter",
         "x": [
          1255,
          1255,
          1270,
          1270
         ],
         "xaxis": "x",
         "y": [
          0,
          0.1460865889046129,
          0.1460865889046129,
          0.06481686495779505
         ],
         "yaxis": "y"
        },
        {
         "hoverinfo": "text",
         "marker": {
          "color": "rgb(0,116,217)"
         },
         "mode": "lines",
         "type": "scatter",
         "x": [
          1285,
          1285,
          1295,
          1295
         ],
         "xaxis": "x",
         "y": [
          0,
          0.18732341299624428,
          0.18732341299624428,
          0
         ],
         "yaxis": "y"
        },
        {
         "hoverinfo": "text",
         "marker": {
          "color": "rgb(0,116,217)"
         },
         "mode": "lines",
         "type": "scatter",
         "x": [
          1262.5,
          1262.5,
          1290,
          1290
         ],
         "xaxis": "x",
         "y": [
          0.1460865889046129,
          0.4095164242046944,
          0.4095164242046944,
          0.18732341299624428
         ],
         "yaxis": "y"
        },
        {
         "hoverinfo": "text",
         "marker": {
          "color": "rgb(0,116,217)"
         },
         "mode": "lines",
         "type": "scatter",
         "x": [
          1232.5,
          1232.5,
          1276.25,
          1276.25
         ],
         "xaxis": "x",
         "y": [
          0.2761411221550023,
          0.5692448122416304,
          0.5692448122416304,
          0.4095164242046944
         ],
         "yaxis": "y"
        },
        {
         "hoverinfo": "text",
         "marker": {
          "color": "rgb(0,116,217)"
         },
         "mode": "lines",
         "type": "scatter",
         "x": [
          1305,
          1305,
          1315,
          1315
         ],
         "xaxis": "x",
         "y": [
          0,
          0.051397412293108444,
          0.051397412293108444,
          0
         ],
         "yaxis": "y"
        },
        {
         "hoverinfo": "text",
         "marker": {
          "color": "rgb(0,116,217)"
         },
         "mode": "lines",
         "type": "scatter",
         "x": [
          1325,
          1325,
          1335,
          1335
         ],
         "xaxis": "x",
         "y": [
          0,
          0.09410402468181837,
          0.09410402468181837,
          0
         ],
         "yaxis": "y"
        },
        {
         "hoverinfo": "text",
         "marker": {
          "color": "rgb(0,116,217)"
         },
         "mode": "lines",
         "type": "scatter",
         "x": [
          1310,
          1310,
          1330,
          1330
         ],
         "xaxis": "x",
         "y": [
          0.051397412293108444,
          0.23318427572456596,
          0.23318427572456596,
          0.09410402468181837
         ],
         "yaxis": "y"
        },
        {
         "hoverinfo": "text",
         "marker": {
          "color": "rgb(0,116,217)"
         },
         "mode": "lines",
         "type": "scatter",
         "x": [
          1375,
          1375,
          1385,
          1385
         ],
         "xaxis": "x",
         "y": [
          0,
          0.011445559135700353,
          0.011445559135700353,
          0
         ],
         "yaxis": "y"
        },
        {
         "hoverinfo": "text",
         "marker": {
          "color": "rgb(0,116,217)"
         },
         "mode": "lines",
         "type": "scatter",
         "x": [
          1365,
          1365,
          1380,
          1380
         ],
         "xaxis": "x",
         "y": [
          0,
          0.06214780539363131,
          0.06214780539363131,
          0.011445559135700353
         ],
         "yaxis": "y"
        },
        {
         "hoverinfo": "text",
         "marker": {
          "color": "rgb(0,116,217)"
         },
         "mode": "lines",
         "type": "scatter",
         "x": [
          1355,
          1355,
          1372.5,
          1372.5
         ],
         "xaxis": "x",
         "y": [
          0,
          0.10690092513396071,
          0.10690092513396071,
          0.06214780539363131
         ],
         "yaxis": "y"
        },
        {
         "hoverinfo": "text",
         "marker": {
          "color": "rgb(0,116,217)"
         },
         "mode": "lines",
         "type": "scatter",
         "x": [
          1345,
          1345,
          1363.75,
          1363.75
         ],
         "xaxis": "x",
         "y": [
          0,
          0.286146789771446,
          0.286146789771446,
          0.10690092513396071
         ],
         "yaxis": "y"
        },
        {
         "hoverinfo": "text",
         "marker": {
          "color": "rgb(0,116,217)"
         },
         "mode": "lines",
         "type": "scatter",
         "x": [
          1320,
          1320,
          1354.375,
          1354.375
         ],
         "xaxis": "x",
         "y": [
          0.23318427572456596,
          0.647507918307263,
          0.647507918307263,
          0.286146789771446
         ],
         "yaxis": "y"
        },
        {
         "hoverinfo": "text",
         "marker": {
          "color": "rgb(0,116,217)"
         },
         "mode": "lines",
         "type": "scatter",
         "x": [
          1254.375,
          1254.375,
          1337.1875,
          1337.1875
         ],
         "xaxis": "x",
         "y": [
          0.5692448122416304,
          0.9936666997136846,
          0.9936666997136846,
          0.647507918307263
         ],
         "yaxis": "y"
        },
        {
         "hoverinfo": "text",
         "marker": {
          "color": "rgb(0,116,217)"
         },
         "mode": "lines",
         "type": "scatter",
         "x": [
          1405,
          1405,
          1415,
          1415
         ],
         "xaxis": "x",
         "y": [
          0,
          0.07485825263999064,
          0.07485825263999064,
          0
         ],
         "yaxis": "y"
        },
        {
         "hoverinfo": "text",
         "marker": {
          "color": "rgb(0,116,217)"
         },
         "mode": "lines",
         "type": "scatter",
         "x": [
          1395,
          1395,
          1410,
          1410
         ],
         "xaxis": "x",
         "y": [
          0,
          0.5727707745592829,
          0.5727707745592829,
          0.07485825263999064
         ],
         "yaxis": "y"
        },
        {
         "hoverinfo": "text",
         "marker": {
          "color": "rgb(0,116,217)"
         },
         "mode": "lines",
         "type": "scatter",
         "x": [
          1425,
          1425,
          1435,
          1435
         ],
         "xaxis": "x",
         "y": [
          0,
          0.10569741933109335,
          0.10569741933109335,
          0
         ],
         "yaxis": "y"
        },
        {
         "hoverinfo": "text",
         "marker": {
          "color": "rgb(0,116,217)"
         },
         "mode": "lines",
         "type": "scatter",
         "x": [
          1455,
          1455,
          1465,
          1465
         ],
         "xaxis": "x",
         "y": [
          0,
          0,
          0,
          0
         ],
         "yaxis": "y"
        },
        {
         "hoverinfo": "text",
         "marker": {
          "color": "rgb(0,116,217)"
         },
         "mode": "lines",
         "type": "scatter",
         "x": [
          1445,
          1445,
          1460,
          1460
         ],
         "xaxis": "x",
         "y": [
          0,
          0.12401589958459806,
          0.12401589958459806,
          0
         ],
         "yaxis": "y"
        },
        {
         "hoverinfo": "text",
         "marker": {
          "color": "rgb(0,116,217)"
         },
         "mode": "lines",
         "type": "scatter",
         "x": [
          1430,
          1430,
          1452.5,
          1452.5
         ],
         "xaxis": "x",
         "y": [
          0.10569741933109335,
          0.332399074883136,
          0.332399074883136,
          0.12401589958459806
         ],
         "yaxis": "y"
        },
        {
         "hoverinfo": "text",
         "marker": {
          "color": "rgb(0,116,217)"
         },
         "mode": "lines",
         "type": "scatter",
         "x": [
          1485,
          1485,
          1495,
          1495
         ],
         "xaxis": "x",
         "y": [
          0,
          0.2278630050661624,
          0.2278630050661624,
          0
         ],
         "yaxis": "y"
        },
        {
         "hoverinfo": "text",
         "marker": {
          "color": "rgb(0,116,217)"
         },
         "mode": "lines",
         "type": "scatter",
         "x": [
          1475,
          1475,
          1490,
          1490
         ],
         "xaxis": "x",
         "y": [
          0,
          0.40243904193663177,
          0.40243904193663177,
          0.2278630050661624
         ],
         "yaxis": "y"
        },
        {
         "hoverinfo": "text",
         "marker": {
          "color": "rgb(0,116,217)"
         },
         "mode": "lines",
         "type": "scatter",
         "x": [
          1441.25,
          1441.25,
          1482.5,
          1482.5
         ],
         "xaxis": "x",
         "y": [
          0.332399074883136,
          0.6733342624918933,
          0.6733342624918933,
          0.40243904193663177
         ],
         "yaxis": "y"
        },
        {
         "hoverinfo": "text",
         "marker": {
          "color": "rgb(0,116,217)"
         },
         "mode": "lines",
         "type": "scatter",
         "x": [
          1402.5,
          1402.5,
          1461.875,
          1461.875
         ],
         "xaxis": "x",
         "y": [
          0.5727707745592829,
          1.1552192347694197,
          1.1552192347694197,
          0.6733342624918933
         ],
         "yaxis": "y"
        },
        {
         "hoverinfo": "text",
         "marker": {
          "color": "rgb(0,116,217)"
         },
         "mode": "lines",
         "type": "scatter",
         "x": [
          1295.78125,
          1295.78125,
          1432.1875,
          1432.1875
         ],
         "xaxis": "x",
         "y": [
          0.9936666997136846,
          1.5924216247186191,
          1.5924216247186191,
          1.1552192347694197
         ],
         "yaxis": "y"
        },
        {
         "hoverinfo": "text",
         "marker": {
          "color": "rgb(0,116,217)"
         },
         "mode": "lines",
         "type": "scatter",
         "x": [
          1081.640625,
          1081.640625,
          1363.984375,
          1363.984375
         ],
         "xaxis": "x",
         "y": [
          1.275225260514829,
          2.0977287288122164,
          2.0977287288122164,
          1.5924216247186191
         ],
         "yaxis": "y"
        },
        {
         "hoverinfo": "text",
         "marker": {
          "color": "rgb(0,116,217)"
         },
         "mode": "lines",
         "type": "scatter",
         "x": [
          884.21875,
          884.21875,
          1222.8125,
          1222.8125
         ],
         "xaxis": "x",
         "y": [
          1.7567567971940723,
          3.4138522413722363,
          3.4138522413722363,
          2.0977287288122164
         ],
         "yaxis": "y"
        },
        {
         "hoverinfo": "text",
         "marker": {
          "color": "rgb(0,116,217)"
         },
         "mode": "lines",
         "type": "scatter",
         "x": [
          709.4921875,
          709.4921875,
          1053.515625,
          1053.515625
         ],
         "xaxis": "x",
         "y": [
          2.069589191890012,
          4.646401518653681,
          4.646401518653681,
          3.4138522413722363
         ],
         "yaxis": "y"
        },
        {
         "hoverinfo": "text",
         "marker": {
          "color": "rgb(0,116,217)"
         },
         "mode": "lines",
         "type": "scatter",
         "x": [
          423.96484375,
          423.96484375,
          881.50390625,
          881.50390625
         ],
         "xaxis": "x",
         "y": [
          2.9069888715125742,
          5.785517130129329,
          5.785517130129329,
          4.646401518653681
         ],
         "yaxis": "y"
        },
        {
         "hoverinfo": "text",
         "marker": {
          "color": "rgb(0,116,217)"
         },
         "mode": "lines",
         "type": "scatter",
         "x": [
          75.60546875,
          75.60546875,
          652.734375,
          652.734375
         ],
         "xaxis": "x",
         "y": [
          3.002414431511062,
          6.513529084999637,
          6.513529084999637,
          5.785517130129329
         ],
         "yaxis": "y"
        }
       ],
       "layout": {
        "autosize": false,
        "height": 500,
        "hovermode": "closest",
        "showlegend": false,
        "template": {
         "data": {
          "bar": [
           {
            "error_x": {
             "color": "#2a3f5f"
            },
            "error_y": {
             "color": "#2a3f5f"
            },
            "marker": {
             "line": {
              "color": "#E5ECF6",
              "width": 0.5
             }
            },
            "type": "bar"
           }
          ],
          "barpolar": [
           {
            "marker": {
             "line": {
              "color": "#E5ECF6",
              "width": 0.5
             }
            },
            "type": "barpolar"
           }
          ],
          "carpet": [
           {
            "aaxis": {
             "endlinecolor": "#2a3f5f",
             "gridcolor": "white",
             "linecolor": "white",
             "minorgridcolor": "white",
             "startlinecolor": "#2a3f5f"
            },
            "baxis": {
             "endlinecolor": "#2a3f5f",
             "gridcolor": "white",
             "linecolor": "white",
             "minorgridcolor": "white",
             "startlinecolor": "#2a3f5f"
            },
            "type": "carpet"
           }
          ],
          "choropleth": [
           {
            "colorbar": {
             "outlinewidth": 0,
             "ticks": ""
            },
            "type": "choropleth"
           }
          ],
          "contour": [
           {
            "colorbar": {
             "outlinewidth": 0,
             "ticks": ""
            },
            "colorscale": [
             [
              0,
              "#0d0887"
             ],
             [
              0.1111111111111111,
              "#46039f"
             ],
             [
              0.2222222222222222,
              "#7201a8"
             ],
             [
              0.3333333333333333,
              "#9c179e"
             ],
             [
              0.4444444444444444,
              "#bd3786"
             ],
             [
              0.5555555555555556,
              "#d8576b"
             ],
             [
              0.6666666666666666,
              "#ed7953"
             ],
             [
              0.7777777777777778,
              "#fb9f3a"
             ],
             [
              0.8888888888888888,
              "#fdca26"
             ],
             [
              1,
              "#f0f921"
             ]
            ],
            "type": "contour"
           }
          ],
          "contourcarpet": [
           {
            "colorbar": {
             "outlinewidth": 0,
             "ticks": ""
            },
            "type": "contourcarpet"
           }
          ],
          "heatmap": [
           {
            "colorbar": {
             "outlinewidth": 0,
             "ticks": ""
            },
            "colorscale": [
             [
              0,
              "#0d0887"
             ],
             [
              0.1111111111111111,
              "#46039f"
             ],
             [
              0.2222222222222222,
              "#7201a8"
             ],
             [
              0.3333333333333333,
              "#9c179e"
             ],
             [
              0.4444444444444444,
              "#bd3786"
             ],
             [
              0.5555555555555556,
              "#d8576b"
             ],
             [
              0.6666666666666666,
              "#ed7953"
             ],
             [
              0.7777777777777778,
              "#fb9f3a"
             ],
             [
              0.8888888888888888,
              "#fdca26"
             ],
             [
              1,
              "#f0f921"
             ]
            ],
            "type": "heatmap"
           }
          ],
          "heatmapgl": [
           {
            "colorbar": {
             "outlinewidth": 0,
             "ticks": ""
            },
            "colorscale": [
             [
              0,
              "#0d0887"
             ],
             [
              0.1111111111111111,
              "#46039f"
             ],
             [
              0.2222222222222222,
              "#7201a8"
             ],
             [
              0.3333333333333333,
              "#9c179e"
             ],
             [
              0.4444444444444444,
              "#bd3786"
             ],
             [
              0.5555555555555556,
              "#d8576b"
             ],
             [
              0.6666666666666666,
              "#ed7953"
             ],
             [
              0.7777777777777778,
              "#fb9f3a"
             ],
             [
              0.8888888888888888,
              "#fdca26"
             ],
             [
              1,
              "#f0f921"
             ]
            ],
            "type": "heatmapgl"
           }
          ],
          "histogram": [
           {
            "marker": {
             "colorbar": {
              "outlinewidth": 0,
              "ticks": ""
             }
            },
            "type": "histogram"
           }
          ],
          "histogram2d": [
           {
            "colorbar": {
             "outlinewidth": 0,
             "ticks": ""
            },
            "colorscale": [
             [
              0,
              "#0d0887"
             ],
             [
              0.1111111111111111,
              "#46039f"
             ],
             [
              0.2222222222222222,
              "#7201a8"
             ],
             [
              0.3333333333333333,
              "#9c179e"
             ],
             [
              0.4444444444444444,
              "#bd3786"
             ],
             [
              0.5555555555555556,
              "#d8576b"
             ],
             [
              0.6666666666666666,
              "#ed7953"
             ],
             [
              0.7777777777777778,
              "#fb9f3a"
             ],
             [
              0.8888888888888888,
              "#fdca26"
             ],
             [
              1,
              "#f0f921"
             ]
            ],
            "type": "histogram2d"
           }
          ],
          "histogram2dcontour": [
           {
            "colorbar": {
             "outlinewidth": 0,
             "ticks": ""
            },
            "colorscale": [
             [
              0,
              "#0d0887"
             ],
             [
              0.1111111111111111,
              "#46039f"
             ],
             [
              0.2222222222222222,
              "#7201a8"
             ],
             [
              0.3333333333333333,
              "#9c179e"
             ],
             [
              0.4444444444444444,
              "#bd3786"
             ],
             [
              0.5555555555555556,
              "#d8576b"
             ],
             [
              0.6666666666666666,
              "#ed7953"
             ],
             [
              0.7777777777777778,
              "#fb9f3a"
             ],
             [
              0.8888888888888888,
              "#fdca26"
             ],
             [
              1,
              "#f0f921"
             ]
            ],
            "type": "histogram2dcontour"
           }
          ],
          "mesh3d": [
           {
            "colorbar": {
             "outlinewidth": 0,
             "ticks": ""
            },
            "type": "mesh3d"
           }
          ],
          "parcoords": [
           {
            "line": {
             "colorbar": {
              "outlinewidth": 0,
              "ticks": ""
             }
            },
            "type": "parcoords"
           }
          ],
          "pie": [
           {
            "automargin": true,
            "type": "pie"
           }
          ],
          "scatter": [
           {
            "marker": {
             "colorbar": {
              "outlinewidth": 0,
              "ticks": ""
             }
            },
            "type": "scatter"
           }
          ],
          "scatter3d": [
           {
            "line": {
             "colorbar": {
              "outlinewidth": 0,
              "ticks": ""
             }
            },
            "marker": {
             "colorbar": {
              "outlinewidth": 0,
              "ticks": ""
             }
            },
            "type": "scatter3d"
           }
          ],
          "scattercarpet": [
           {
            "marker": {
             "colorbar": {
              "outlinewidth": 0,
              "ticks": ""
             }
            },
            "type": "scattercarpet"
           }
          ],
          "scattergeo": [
           {
            "marker": {
             "colorbar": {
              "outlinewidth": 0,
              "ticks": ""
             }
            },
            "type": "scattergeo"
           }
          ],
          "scattergl": [
           {
            "marker": {
             "colorbar": {
              "outlinewidth": 0,
              "ticks": ""
             }
            },
            "type": "scattergl"
           }
          ],
          "scattermapbox": [
           {
            "marker": {
             "colorbar": {
              "outlinewidth": 0,
              "ticks": ""
             }
            },
            "type": "scattermapbox"
           }
          ],
          "scatterpolar": [
           {
            "marker": {
             "colorbar": {
              "outlinewidth": 0,
              "ticks": ""
             }
            },
            "type": "scatterpolar"
           }
          ],
          "scatterpolargl": [
           {
            "marker": {
             "colorbar": {
              "outlinewidth": 0,
              "ticks": ""
             }
            },
            "type": "scatterpolargl"
           }
          ],
          "scatterternary": [
           {
            "marker": {
             "colorbar": {
              "outlinewidth": 0,
              "ticks": ""
             }
            },
            "type": "scatterternary"
           }
          ],
          "surface": [
           {
            "colorbar": {
             "outlinewidth": 0,
             "ticks": ""
            },
            "colorscale": [
             [
              0,
              "#0d0887"
             ],
             [
              0.1111111111111111,
              "#46039f"
             ],
             [
              0.2222222222222222,
              "#7201a8"
             ],
             [
              0.3333333333333333,
              "#9c179e"
             ],
             [
              0.4444444444444444,
              "#bd3786"
             ],
             [
              0.5555555555555556,
              "#d8576b"
             ],
             [
              0.6666666666666666,
              "#ed7953"
             ],
             [
              0.7777777777777778,
              "#fb9f3a"
             ],
             [
              0.8888888888888888,
              "#fdca26"
             ],
             [
              1,
              "#f0f921"
             ]
            ],
            "type": "surface"
           }
          ],
          "table": [
           {
            "cells": {
             "fill": {
              "color": "#EBF0F8"
             },
             "line": {
              "color": "white"
             }
            },
            "header": {
             "fill": {
              "color": "#C8D4E3"
             },
             "line": {
              "color": "white"
             }
            },
            "type": "table"
           }
          ]
         },
         "layout": {
          "annotationdefaults": {
           "arrowcolor": "#2a3f5f",
           "arrowhead": 0,
           "arrowwidth": 1
          },
          "coloraxis": {
           "colorbar": {
            "outlinewidth": 0,
            "ticks": ""
           }
          },
          "colorscale": {
           "diverging": [
            [
             0,
             "#8e0152"
            ],
            [
             0.1,
             "#c51b7d"
            ],
            [
             0.2,
             "#de77ae"
            ],
            [
             0.3,
             "#f1b6da"
            ],
            [
             0.4,
             "#fde0ef"
            ],
            [
             0.5,
             "#f7f7f7"
            ],
            [
             0.6,
             "#e6f5d0"
            ],
            [
             0.7,
             "#b8e186"
            ],
            [
             0.8,
             "#7fbc41"
            ],
            [
             0.9,
             "#4d9221"
            ],
            [
             1,
             "#276419"
            ]
           ],
           "sequential": [
            [
             0,
             "#0d0887"
            ],
            [
             0.1111111111111111,
             "#46039f"
            ],
            [
             0.2222222222222222,
             "#7201a8"
            ],
            [
             0.3333333333333333,
             "#9c179e"
            ],
            [
             0.4444444444444444,
             "#bd3786"
            ],
            [
             0.5555555555555556,
             "#d8576b"
            ],
            [
             0.6666666666666666,
             "#ed7953"
            ],
            [
             0.7777777777777778,
             "#fb9f3a"
            ],
            [
             0.8888888888888888,
             "#fdca26"
            ],
            [
             1,
             "#f0f921"
            ]
           ],
           "sequentialminus": [
            [
             0,
             "#0d0887"
            ],
            [
             0.1111111111111111,
             "#46039f"
            ],
            [
             0.2222222222222222,
             "#7201a8"
            ],
            [
             0.3333333333333333,
             "#9c179e"
            ],
            [
             0.4444444444444444,
             "#bd3786"
            ],
            [
             0.5555555555555556,
             "#d8576b"
            ],
            [
             0.6666666666666666,
             "#ed7953"
            ],
            [
             0.7777777777777778,
             "#fb9f3a"
            ],
            [
             0.8888888888888888,
             "#fdca26"
            ],
            [
             1,
             "#f0f921"
            ]
           ]
          },
          "colorway": [
           "#636efa",
           "#EF553B",
           "#00cc96",
           "#ab63fa",
           "#FFA15A",
           "#19d3f3",
           "#FF6692",
           "#B6E880",
           "#FF97FF",
           "#FECB52"
          ],
          "font": {
           "color": "#2a3f5f"
          },
          "geo": {
           "bgcolor": "white",
           "lakecolor": "white",
           "landcolor": "#E5ECF6",
           "showlakes": true,
           "showland": true,
           "subunitcolor": "white"
          },
          "hoverlabel": {
           "align": "left"
          },
          "hovermode": "closest",
          "mapbox": {
           "style": "light"
          },
          "paper_bgcolor": "white",
          "plot_bgcolor": "#E5ECF6",
          "polar": {
           "angularaxis": {
            "gridcolor": "white",
            "linecolor": "white",
            "ticks": ""
           },
           "bgcolor": "#E5ECF6",
           "radialaxis": {
            "gridcolor": "white",
            "linecolor": "white",
            "ticks": ""
           }
          },
          "scene": {
           "xaxis": {
            "backgroundcolor": "#E5ECF6",
            "gridcolor": "white",
            "gridwidth": 2,
            "linecolor": "white",
            "showbackground": true,
            "ticks": "",
            "zerolinecolor": "white"
           },
           "yaxis": {
            "backgroundcolor": "#E5ECF6",
            "gridcolor": "white",
            "gridwidth": 2,
            "linecolor": "white",
            "showbackground": true,
            "ticks": "",
            "zerolinecolor": "white"
           },
           "zaxis": {
            "backgroundcolor": "#E5ECF6",
            "gridcolor": "white",
            "gridwidth": 2,
            "linecolor": "white",
            "showbackground": true,
            "ticks": "",
            "zerolinecolor": "white"
           }
          },
          "shapedefaults": {
           "line": {
            "color": "#2a3f5f"
           }
          },
          "ternary": {
           "aaxis": {
            "gridcolor": "white",
            "linecolor": "white",
            "ticks": ""
           },
           "baxis": {
            "gridcolor": "white",
            "linecolor": "white",
            "ticks": ""
           },
           "bgcolor": "#E5ECF6",
           "caxis": {
            "gridcolor": "white",
            "linecolor": "white",
            "ticks": ""
           }
          },
          "title": {
           "x": 0.05
          },
          "xaxis": {
           "automargin": true,
           "gridcolor": "white",
           "linecolor": "white",
           "ticks": "",
           "title": {
            "standoff": 15
           },
           "zerolinecolor": "white",
           "zerolinewidth": 2
          },
          "yaxis": {
           "automargin": true,
           "gridcolor": "white",
           "linecolor": "white",
           "ticks": "",
           "title": {
            "standoff": 15
           },
           "zerolinecolor": "white",
           "zerolinewidth": 2
          }
         }
        },
        "width": 800,
        "xaxis": {
         "mirror": "allticks",
         "rangemode": "tozero",
         "showgrid": false,
         "showline": true,
         "showticklabels": true,
         "tickmode": "array",
         "ticks": "outside",
         "ticktext": [
          "118",
          "130",
          "102",
          "107",
          "122",
          "105",
          "135",
          "109",
          "117",
          "131",
          "56",
          "85",
          "86",
          "70",
          "51",
          "65",
          "50",
          "52",
          "110",
          "115",
          "148",
          "124",
          "136",
          "100",
          "120",
          "143",
          "125",
          "144",
          "104",
          "112",
          "145",
          "140",
          "129",
          "139",
          "141",
          "15",
          "32",
          "14",
          "33",
          "19",
          "46",
          "21",
          "48",
          "10",
          "44",
          "18",
          "5",
          "16",
          "22",
          "4",
          "0",
          "40",
          "17",
          "27",
          "36",
          "31",
          "20",
          "43",
          "23",
          "26",
          "28",
          "39",
          "35",
          "49",
          "6",
          "11",
          "7",
          "24",
          "41",
          "8",
          "13",
          "38",
          "42",
          "29",
          "2",
          "47",
          "25",
          "1",
          "45",
          "30",
          "37",
          "9",
          "34",
          "3",
          "12",
          "87",
          "68",
          "119",
          "60",
          "98",
          "57",
          "93",
          "106",
          "53",
          "62",
          "80",
          "81",
          "69",
          "89",
          "55",
          "99",
          "94",
          "67",
          "82",
          "59",
          "79",
          "90",
          "92",
          "64",
          "88",
          "95",
          "84",
          "96",
          "71",
          "73",
          "61",
          "66",
          "74",
          "91",
          "97",
          "63",
          "78",
          "123",
          "111",
          "114",
          "54",
          "126",
          "133",
          "76",
          "103",
          "116",
          "147",
          "77",
          "137",
          "75",
          "127",
          "149",
          "58",
          "138",
          "108",
          "128",
          "132",
          "83",
          "121",
          "134",
          "101",
          "142",
          "146",
          "72",
          "113"
         ],
         "tickvals": [
          5,
          15,
          25,
          35,
          45,
          55,
          65,
          75,
          85,
          95,
          105,
          115,
          125,
          135,
          145,
          155,
          165,
          175,
          185,
          195,
          205,
          215,
          225,
          235,
          245,
          255,
          265,
          275,
          285,
          295,
          305,
          315,
          325,
          335,
          345,
          355,
          365,
          375,
          385,
          395,
          405,
          415,
          425,
          435,
          445,
          455,
          465,
          475,
          485,
          495,
          505,
          515,
          525,
          535,
          545,
          555,
          565,
          575,
          585,
          595,
          605,
          615,
          625,
          635,
          645,
          655,
          665,
          675,
          685,
          695,
          705,
          715,
          725,
          735,
          745,
          755,
          765,
          775,
          785,
          795,
          805,
          815,
          825,
          835,
          845,
          855,
          865,
          875,
          885,
          895,
          905,
          915,
          925,
          935,
          945,
          955,
          965,
          975,
          985,
          995,
          1005,
          1015,
          1025,
          1035,
          1045,
          1055,
          1065,
          1075,
          1085,
          1095,
          1105,
          1115,
          1125,
          1135,
          1145,
          1155,
          1165,
          1175,
          1185,
          1195,
          1205,
          1215,
          1225,
          1235,
          1245,
          1255,
          1265,
          1275,
          1285,
          1295,
          1305,
          1315,
          1325,
          1335,
          1345,
          1355,
          1365,
          1375,
          1385,
          1395,
          1405,
          1415,
          1425,
          1435,
          1445,
          1455,
          1465,
          1475,
          1485,
          1495
         ],
         "type": "linear",
         "zeroline": false
        },
        "yaxis": {
         "mirror": "allticks",
         "rangemode": "tozero",
         "showgrid": false,
         "showline": true,
         "showticklabels": true,
         "ticks": "outside",
         "type": "linear",
         "zeroline": false
        }
       }
      }
     },
     "metadata": {}
    }
   ],
   "source": [
    "# Create the dendrogram\n",
    "fig = ff.create_dendrogram(df_iris_pca, color_threshold=0)\n",
    "fig.update_layout(width=800, height=500)\n",
    "fig.show()"
   ]
  },
  {
   "cell_type": "code",
   "execution_count": 24,
   "metadata": {},
   "outputs": [],
   "source": [
    "# Run the hierarchial alborithm using number of cluster 3 from visualizing dendogram\n",
    "agg = AgglomerativeClustering(n_clusters=3)\n",
    "model = agg.fit(df_iris_pca)"
   ]
  },
  {
   "cell_type": "code",
   "execution_count": 25,
   "metadata": {},
   "outputs": [
    {
     "output_type": "execute_result",
     "data": {
      "text/plain": "   principal component 1  principal component 2  class\n0              -2.264542               0.505704      1\n1              -2.086426              -0.655405      1\n2              -2.367950              -0.318477      1\n3              -2.304197              -0.575368      1\n4              -2.388777               0.674767      1",
      "text/html": "<div>\n<style scoped>\n    .dataframe tbody tr th:only-of-type {\n        vertical-align: middle;\n    }\n\n    .dataframe tbody tr th {\n        vertical-align: top;\n    }\n\n    .dataframe thead th {\n        text-align: right;\n    }\n</style>\n<table border=\"1\" class=\"dataframe\">\n  <thead>\n    <tr style=\"text-align: right;\">\n      <th></th>\n      <th>principal component 1</th>\n      <th>principal component 2</th>\n      <th>class</th>\n    </tr>\n  </thead>\n  <tbody>\n    <tr>\n      <th>0</th>\n      <td>-2.264542</td>\n      <td>0.505704</td>\n      <td>1</td>\n    </tr>\n    <tr>\n      <th>1</th>\n      <td>-2.086426</td>\n      <td>-0.655405</td>\n      <td>1</td>\n    </tr>\n    <tr>\n      <th>2</th>\n      <td>-2.367950</td>\n      <td>-0.318477</td>\n      <td>1</td>\n    </tr>\n    <tr>\n      <th>3</th>\n      <td>-2.304197</td>\n      <td>-0.575368</td>\n      <td>1</td>\n    </tr>\n    <tr>\n      <th>4</th>\n      <td>-2.388777</td>\n      <td>0.674767</td>\n      <td>1</td>\n    </tr>\n  </tbody>\n</table>\n</div>"
     },
     "metadata": {},
     "execution_count": 25
    }
   ],
   "source": [
    "# Add a mew class column to df_iris\n",
    "df_iris_pca[\"class\"] = model.labels_ \n",
    "df_iris_pca.head()"
   ]
  },
  {
   "cell_type": "code",
   "execution_count": 26,
   "metadata": {},
   "outputs": [
    {
     "output_type": "display_data",
     "data": {},
     "metadata": {}
    },
    {
     "output_type": "execute_result",
     "data": {
      "text/html": "<div id='2556'>\n\n\n\n\n\n  <div class=\"bk-root\" id=\"05a5ee6d-1efd-4dd0-a2c2-afc5e3871fd2\" data-root-id=\"2556\"></div>\n</div>\n<script type=\"application/javascript\">(function(root) {\n  function embed_document(root) {\n  var docs_json = {\"db306e29-6254-4d70-89a7-44c56f6a5913\":{\"roots\":{\"references\":[{\"attributes\":{\"text\":\"\",\"text_color\":{\"value\":\"black\"},\"text_font_size\":{\"value\":\"12pt\"}},\"id\":\"2564\",\"type\":\"Title\"},{\"attributes\":{\"data_source\":{\"id\":\"2615\"},\"glyph\":{\"id\":\"2618\"},\"hover_glyph\":null,\"muted_glyph\":{\"id\":\"2620\"},\"nonselection_glyph\":{\"id\":\"2619\"},\"selection_glyph\":null,\"view\":{\"id\":\"2622\"}},\"id\":\"2621\",\"type\":\"GlyphRenderer\"},{\"attributes\":{},\"id\":\"2598\",\"type\":\"Selection\"},{\"attributes\":{\"label\":{\"value\":\"0\"},\"renderers\":[{\"id\":\"2603\"}]},\"id\":\"2614\",\"type\":\"LegendItem\"},{\"attributes\":{},\"id\":\"2594\",\"type\":\"BasicTickFormatter\"},{\"attributes\":{},\"id\":\"2584\",\"type\":\"ResetTool\"},{\"attributes\":{\"fill_alpha\":{\"value\":0.1},\"fill_color\":{\"value\":\"#1f77b3\"},\"line_alpha\":{\"value\":0.1},\"line_color\":{\"value\":\"#1f77b3\"},\"size\":{\"units\":\"screen\",\"value\":5.477225575051661},\"x\":{\"field\":\"principal component 1\"},\"y\":{\"field\":\"principal component 2\"}},\"id\":\"2601\",\"type\":\"Scatter\"},{\"attributes\":{},\"id\":\"2596\",\"type\":\"BasicTickFormatter\"},{\"attributes\":{\"fill_color\":{\"value\":\"#1f77b3\"},\"line_color\":{\"value\":\"#1f77b3\"},\"size\":{\"units\":\"screen\",\"value\":5.477225575051661},\"x\":{\"field\":\"principal component 1\"},\"y\":{\"field\":\"principal component 2\"}},\"id\":\"2600\",\"type\":\"Scatter\"},{\"attributes\":{},\"id\":\"2580\",\"type\":\"SaveTool\"},{\"attributes\":{},\"id\":\"2581\",\"type\":\"PanTool\"},{\"attributes\":{\"overlay\":{\"id\":\"2585\"}},\"id\":\"2583\",\"type\":\"BoxZoomTool\"},{\"attributes\":{},\"id\":\"2652\",\"type\":\"UnionRenderers\"},{\"attributes\":{\"axis\":{\"id\":\"2572\"},\"grid_line_color\":null,\"ticker\":null},\"id\":\"2575\",\"type\":\"Grid\"},{\"attributes\":{},\"id\":\"2611\",\"type\":\"UnionRenderers\"},{\"attributes\":{\"children\":[{\"id\":\"2557\"},{\"id\":\"2563\"},{\"id\":\"2763\"}],\"margin\":[0,0,0,0],\"name\":\"Row05361\",\"tags\":[\"embedded\"]},\"id\":\"2556\",\"type\":\"Row\"},{\"attributes\":{\"axis_label\":\"principal component 2\",\"bounds\":\"auto\",\"formatter\":{\"id\":\"2596\"},\"major_label_orientation\":\"horizontal\",\"ticker\":{\"id\":\"2577\"}},\"id\":\"2576\",\"type\":\"LinearAxis\"},{\"attributes\":{\"source\":{\"id\":\"2597\"}},\"id\":\"2604\",\"type\":\"CDSView\"},{\"attributes\":{\"data\":{\"class\":[2,2,2,2,2,2,2,2,2,2,2,2,2,2,2,2,2,2,2,2,2,2,2,2,2,2,2,2,2,2,2,2,2,2,2,2,2,2,2],\"principal component 1\":{\"__ndarray__\":\"dJicP/Wp8T/qdLjqfHDnP0tUdjeu3/M/kX2nUXn15z+Bt9eWSwfsPwPqCkTLn+c/GHDKtFm79T9lKpbWVaLbP6ZuiqhlyvA/ZWhkIxGQ/T9do62QmqYBQMOof1zh4v0/dEK5SJgIBkDmZzhbjmwCQCNPaKrzIwJAbYt72MPa9T88rpRF5SX+PxvRBAgNePk/eh2QGF2K9z9D9idKwH8DQDKGKwMfeQpAl+f2s+9SAEA4Li1oPC8HQEOoueeRRPs/qgmePdpS/z+BG1ZdIdb9P4r4bA7mewNANbYxN1aHAkCRTjYpWGgGQLT5r95QSPk/8M5NdH6N9T8+BRAgJqj9Pw8MxAYXIQBAu2rCqSpz/j86DlMYslgAQLt5vY12AwBA8eA1jajt/T/4gkKiYVX4Pw705MSyBfY/\",\"dtype\":\"float64\",\"order\":\"little\",\"shape\":[39]},\"principal component 2\":{\"__ndarray__\":\"0Xb2/Z2e6z8YPDfKBSjjP9PNPSGgrOM/sV+rWRnr6D9dOXqk51HgP5VBqiETwtk/Oy15KGQL1T8RCD4aSF3rP7qTpAnXteA/hyzLZfDk6z8ExOkWOL7hP/REGSLnotI/mgetLdY66T9KO0mDhTXaP7uNlwE7vv4/MqEChdI05j9op0OLbYTaPzF8aBVGquU/MzesMk400D9+OWwxPXQEQIWRpBMMWGO/QHSFImkJ7T9gkpHjaXXZP5Ba37LzOfA/nIArfqgN8D+M5F19r8XhP75e4qRfks8/IeE1sGwCBUBBKzVdLQjrP6SPagTbKPE/HfwD4z0G2z+5pMCrfITlP9j7O15fiOM/2nYiWerz5T+5Il+gf6vrPzt452ncxvA/9UMyKieA2D9422+NKRPRPyAt0bkEQ/A/\",\"dtype\":\"float64\",\"order\":\"little\",\"shape\":[39]},\"principal_component_1\":{\"__ndarray__\":\"dJicP/Wp8T/qdLjqfHDnP0tUdjeu3/M/kX2nUXn15z+Bt9eWSwfsPwPqCkTLn+c/GHDKtFm79T9lKpbWVaLbP6ZuiqhlyvA/ZWhkIxGQ/T9do62QmqYBQMOof1zh4v0/dEK5SJgIBkDmZzhbjmwCQCNPaKrzIwJAbYt72MPa9T88rpRF5SX+PxvRBAgNePk/eh2QGF2K9z9D9idKwH8DQDKGKwMfeQpAl+f2s+9SAEA4Li1oPC8HQEOoueeRRPs/qgmePdpS/z+BG1ZdIdb9P4r4bA7mewNANbYxN1aHAkCRTjYpWGgGQLT5r95QSPk/8M5NdH6N9T8+BRAgJqj9Pw8MxAYXIQBAu2rCqSpz/j86DlMYslgAQLt5vY12AwBA8eA1jajt/T/4gkKiYVX4Pw705MSyBfY/\",\"dtype\":\"float64\",\"order\":\"little\",\"shape\":[39]},\"principal_component_2\":{\"__ndarray__\":\"0Xb2/Z2e6z8YPDfKBSjjP9PNPSGgrOM/sV+rWRnr6D9dOXqk51HgP5VBqiETwtk/Oy15KGQL1T8RCD4aSF3rP7qTpAnXteA/hyzLZfDk6z8ExOkWOL7hP/REGSLnotI/mgetLdY66T9KO0mDhTXaP7uNlwE7vv4/MqEChdI05j9op0OLbYTaPzF8aBVGquU/MzesMk400D9+OWwxPXQEQIWRpBMMWGO/QHSFImkJ7T9gkpHjaXXZP5Ba37LzOfA/nIArfqgN8D+M5F19r8XhP75e4qRfks8/IeE1sGwCBUBBKzVdLQjrP6SPagTbKPE/HfwD4z0G2z+5pMCrfITlP9j7O15fiOM/2nYiWerz5T+5Il+gf6vrPzt452ncxvA/9UMyKieA2D9422+NKRPRPyAt0bkEQ/A/\",\"dtype\":\"float64\",\"order\":\"little\",\"shape\":[39]}},\"selected\":{\"id\":\"2635\"},\"selection_policy\":{\"id\":\"2652\"}},\"id\":\"2634\",\"type\":\"ColumnDataSource\"},{\"attributes\":{\"bottom_units\":\"screen\",\"fill_alpha\":0.5,\"fill_color\":\"lightgrey\",\"left_units\":\"screen\",\"level\":\"overlay\",\"line_alpha\":1.0,\"line_color\":\"black\",\"line_dash\":[4,4],\"line_width\":2,\"right_units\":\"screen\",\"top_units\":\"screen\"},\"id\":\"2585\",\"type\":\"BoxAnnotation\"},{\"attributes\":{\"active_drag\":\"auto\",\"active_inspect\":\"auto\",\"active_multi\":null,\"active_scroll\":\"auto\",\"active_tap\":\"auto\",\"tools\":[{\"id\":\"2560\"},{\"id\":\"2580\"},{\"id\":\"2581\"},{\"id\":\"2582\"},{\"id\":\"2583\"},{\"id\":\"2584\"}]},\"id\":\"2586\",\"type\":\"Toolbar\"},{\"attributes\":{},\"id\":\"2577\",\"type\":\"BasicTicker\"},{\"attributes\":{\"label\":{\"value\":\"1\"},\"renderers\":[{\"id\":\"2621\"}]},\"id\":\"2633\",\"type\":\"LegendItem\"},{\"attributes\":{},\"id\":\"2616\",\"type\":\"Selection\"},{\"attributes\":{},\"id\":\"2568\",\"type\":\"LinearScale\"},{\"attributes\":{},\"id\":\"2631\",\"type\":\"UnionRenderers\"},{\"attributes\":{\"margin\":[5,5,5,5],\"name\":\"HSpacer05366\",\"sizing_mode\":\"stretch_width\"},\"id\":\"2763\",\"type\":\"Spacer\"},{\"attributes\":{\"end\":3.2604144520280918,\"reset_end\":3.2604144520280918,\"reset_start\":-3.1961060534153827,\"start\":-3.1961060534153827,\"tags\":[[[\"principal component 2\",\"principal component 2\",null]]]},\"id\":\"2559\",\"type\":\"Range1d\"},{\"attributes\":{\"source\":{\"id\":\"2615\"}},\"id\":\"2622\",\"type\":\"CDSView\"},{\"attributes\":{\"data\":{\"class\":[1,1,1,1,1,1,1,1,1,1,1,1,1,1,1,1,1,1,1,1,1,1,1,1,1,1,1,1,1,1,1,1,1,1,1,1,1,1,1,1,1,1,1,1,1,1,1,1,1,1],\"principal component 1\":{\"__ndarray__\":\"RhG/DcgdAsCgflXa/7AAwDItSgGQ8QLArnjV6/5uAsB/OOBfNxwDwLMJAJp1kADA7VhZG9GQA8C5vPx66N4BwLvvZ05UvALA5NUzb2iCAcDHACQK0k4BwIGPWzp4ngLAbUHW4evKAcB0YBiPIx4FwOFkYiHQiQHA7cLFMQADAsDDicmkO58BwNTnRqd8hQHAE7KL2CBO/r9wMd43N7gCwDou6+IFov6/KnpNIB2jAcAlHszufzEGwHSyHOBnIP2/dG9EsmPTAcBqStBn+E//v+kJWiugagDA0BcE6nVYAcD16Z27WB8BwCQNM3l7JgLA4OURJwwoAcCyCNRTnk/9v3iUD3eZ3QTAyIxIYeyAA8Dk1TNvaIIBwAjB4qBfsAHAqgtPDPdaAMDk1TNvaIIBwJ/dMoLUfAPAVSP02UddAcA94QHLzkoCwGRzDEaD8v2/YPlj5HF2BMD6iQQfsG3/v/mHnMYlEQHAoe7lFFWaAMDS+qMb0QwDwJNmoB9/LwPALZosq3LQAcDejpZMy6UBwA==\",\"dtype\":\"float64\",\"order\":\"little\",\"shape\":[50]},\"principal component 2\":{\"__ndarray__\":\"Y+9787ku4D/9F8lWE/nkv1fYpqjuYdS/CySQjGlp4r/R0afLsZflP7a+IZP5S/g/RySoGooWsz9ueXQ10LHPP8sIOjG4hfG/hk6pnFa23L9mMKXTKCHxPze/qP2XTMQ/pKo3kBix5r+CiXLvZwbuv9CryBtaPf4/kbWrfGrHBUBbjF03Ujj4PzP+/04udeA/70k0V9Tl9j8mpZIPTofyP2HAlsG9jNs/2PKSxId67j9Bu+o4P1TfPxXWDBwFVLs/Vu1BJITCxD+1YRod23Pjv2iqjuRgBtE/aoxIfx6q4T/UGaA2hIvVP1hBWpX4JtS/QAayRej43r8Clx54QH/cP7RxJTRvQf0/wrJwma57AUCGTqmcVrbcvyTn16FhmMe/q+VDvSnr5T+GTqmcVrbcv3LEP1q7Ouy/c0SP1gm80j9PwmaGk/PdP31/28YcnwLAne8l3FML3b9kssu+Q9XfP+3eGJkvvvI/+Ywv2S8k5r9TqsG4/WjyP8+ttwhpMde/de6vZGBo8D/J7UmWeoGgPw==\",\"dtype\":\"float64\",\"order\":\"little\",\"shape\":[50]},\"principal_component_1\":{\"__ndarray__\":\"RhG/DcgdAsCgflXa/7AAwDItSgGQ8QLArnjV6/5uAsB/OOBfNxwDwLMJAJp1kADA7VhZG9GQA8C5vPx66N4BwLvvZ05UvALA5NUzb2iCAcDHACQK0k4BwIGPWzp4ngLAbUHW4evKAcB0YBiPIx4FwOFkYiHQiQHA7cLFMQADAsDDicmkO58BwNTnRqd8hQHAE7KL2CBO/r9wMd43N7gCwDou6+IFov6/KnpNIB2jAcAlHszufzEGwHSyHOBnIP2/dG9EsmPTAcBqStBn+E//v+kJWiugagDA0BcE6nVYAcD16Z27WB8BwCQNM3l7JgLA4OURJwwoAcCyCNRTnk/9v3iUD3eZ3QTAyIxIYeyAA8Dk1TNvaIIBwAjB4qBfsAHAqgtPDPdaAMDk1TNvaIIBwJ/dMoLUfAPAVSP02UddAcA94QHLzkoCwGRzDEaD8v2/YPlj5HF2BMD6iQQfsG3/v/mHnMYlEQHAoe7lFFWaAMDS+qMb0QwDwJNmoB9/LwPALZosq3LQAcDejpZMy6UBwA==\",\"dtype\":\"float64\",\"order\":\"little\",\"shape\":[50]},\"principal_component_2\":{\"__ndarray__\":\"Y+9787ku4D/9F8lWE/nkv1fYpqjuYdS/CySQjGlp4r/R0afLsZflP7a+IZP5S/g/RySoGooWsz9ueXQ10LHPP8sIOjG4hfG/hk6pnFa23L9mMKXTKCHxPze/qP2XTMQ/pKo3kBix5r+CiXLvZwbuv9CryBtaPf4/kbWrfGrHBUBbjF03Ujj4PzP+/04udeA/70k0V9Tl9j8mpZIPTofyP2HAlsG9jNs/2PKSxId67j9Bu+o4P1TfPxXWDBwFVLs/Vu1BJITCxD+1YRod23Pjv2iqjuRgBtE/aoxIfx6q4T/UGaA2hIvVP1hBWpX4JtS/QAayRej43r8Clx54QH/cP7RxJTRvQf0/wrJwma57AUCGTqmcVrbcvyTn16FhmMe/q+VDvSnr5T+GTqmcVrbcv3LEP1q7Ouy/c0SP1gm80j9PwmaGk/PdP31/28YcnwLAne8l3FML3b9kssu+Q9XfP+3eGJkvvvI/+Ywv2S8k5r9TqsG4/WjyP8+ttwhpMde/de6vZGBo8D/J7UmWeoGgPw==\",\"dtype\":\"float64\",\"order\":\"little\",\"shape\":[50]}},\"selected\":{\"id\":\"2616\"},\"selection_policy\":{\"id\":\"2631\"}},\"id\":\"2615\",\"type\":\"ColumnDataSource\"},{\"attributes\":{},\"id\":\"2573\",\"type\":\"BasicTicker\"},{\"attributes\":{\"axis_label\":\"principal component 1\",\"bounds\":\"auto\",\"formatter\":{\"id\":\"2594\"},\"major_label_orientation\":\"horizontal\",\"ticker\":{\"id\":\"2573\"}},\"id\":\"2572\",\"type\":\"LinearAxis\"},{\"attributes\":{\"fill_alpha\":{\"value\":0.1},\"fill_color\":{\"value\":\"#2ba02b\"},\"line_alpha\":{\"value\":0.1},\"line_color\":{\"value\":\"#2ba02b\"},\"size\":{\"units\":\"screen\",\"value\":5.477225575051661},\"x\":{\"field\":\"principal component 1\"},\"y\":{\"field\":\"principal component 2\"}},\"id\":\"2638\",\"type\":\"Scatter\"},{\"attributes\":{\"margin\":[5,5,5,5],\"name\":\"HSpacer05365\",\"sizing_mode\":\"stretch_width\"},\"id\":\"2557\",\"type\":\"Spacer\"},{\"attributes\":{},\"id\":\"2570\",\"type\":\"LinearScale\"},{\"attributes\":{\"data\":{\"class\":[0,0,0,0,0,0,0,0,0,0,0,0,0,0,0,0,0,0,0,0,0,0,0,0,0,0,0,0,0,0,0,0,0,0,0,0,0,0,0,0,0,0,0,0,0,0,0,0,0,0,0,0,0,0,0,0,0,0,0,0,0],\"principal component 1\":{\"__ndarray__\":\"eRWMhntt2T9KnJZFWCnxP2eBHlf2mtg/+v4dZv7c3790GywXnaPtPyrAkDZaWXQ/IN6FPizsv7+wz+h8JxTcP1VNsk78puE/OUUqJwTz5j/Nz63ghxOjv5Vu06S8RdY/2bIv7V2iwz9n6iTH4XHzPyLYZACmFsQ/Wa1SDE473j8RyjX41qXzP4sxy7fjI+Q/HNCK7kVq5j9riRfXA/TrP+xho0lLEfQ/H4VVJyMw5T/kG9RSSDWovzQ/fKzdHL8/co9YOQTqjD8Z3+hlmjXOPw7NWUU16PA/l7CTKGVXzD/Qm78H9ZLwP6NeE5xXK7E/cjcDdZCg0T/GfckO8G3RP6WN/lcD8eM/st5L0c4e1T/UxBTVg+nXv9Ek5ZbCG9I/Ll9tRC/Mtj8BJEIbubfMP/QERuZAXeI/4oxQ67I/3b/egNIAxiTQP95fCCh3c/I/sJMD/NoE9z/soUp+m+/WP/Um68uNAwBArRA5v8SV+T9a9+RxpAz0PxziiMbLbPc//UT6XU4Q9D+NYrcHUCrvP/WKpJpgRPU/Y3z98B7A8j8f0u7vBVHwP5/aFgd+k/w/ay0H1BTE/T/g9mvcxMfxPyg2s2rVKPM/mb7xUMOM7T/eXwgod3PyP0nVWzGV7/g/Odkr7ZKy7j8=\",\"dtype\":\"float64\",\"order\":\"little\",\"shape\":[61]},\"principal component 2\":{\"__ndarray__\":\"kM0hw3Uh/L+VAFcJ4hrLv+0VlNb76eK/YZSza/eU/b/Yi2FUCw+fP+XLA01tePC/8oKEXbZDBcCq9gYTsCWuv0vNqHx+XPy/0nstxk+8x78sLLY26rLbv/u9JkVKZsi/kInUeJ9N6b9l5T6HOSL6v7tAi9CC2fS/tAipiLWp2r9Fr8dW+Rvuv+HFU70Krdq/ITfCViNBsL9TnvIgnAvQPzOIsEKXJrW/XRnYPl+3zL9oBRGQV+rwv2nCfHF5BPm/bNYvdp0s+b9DnpAdXtTovwstEs1+YeS/bm49mmj50b+8i7Pvikf2v4HHaP8nN8u/PmcLDe1G9b8kCf6DO+nxvwDGHdUiNJw/ZevEJROl77/NwuSruSQAwKFLO3SQU+u/nY5GPmdjxr9K9kdU3FnYv4M6tZoYrcO/tfvOiaWh+L+jehyOShHjv0gIW3ZDcea/dpQzq/qaqb87lg29Jfb4v7GQnq/nKee/aH0vzm1o27+OMWiJoq3yv6avYO3pbNy/Tip0Mjl7+79AzVl8D0fiv0NsHbAVJ9+/xNmJW81o1L91qPtybMewP928S8Epvci/hoE7U1ijx7/5k4Cxb/HSv0Wv2/Y8Juq/fQBbUiCxkz9ICFt2Q3Hmv8Fa1TpU+Oy/6AksNprRlr8=\",\"dtype\":\"float64\",\"order\":\"little\",\"shape\":[61]},\"principal_component_1\":{\"__ndarray__\":\"eRWMhntt2T9KnJZFWCnxP2eBHlf2mtg/+v4dZv7c3790GywXnaPtPyrAkDZaWXQ/IN6FPizsv7+wz+h8JxTcP1VNsk78puE/OUUqJwTz5j/Nz63ghxOjv5Vu06S8RdY/2bIv7V2iwz9n6iTH4XHzPyLYZACmFsQ/Wa1SDE473j8RyjX41qXzP4sxy7fjI+Q/HNCK7kVq5j9riRfXA/TrP+xho0lLEfQ/H4VVJyMw5T/kG9RSSDWovzQ/fKzdHL8/co9YOQTqjD8Z3+hlmjXOPw7NWUU16PA/l7CTKGVXzD/Qm78H9ZLwP6NeE5xXK7E/cjcDdZCg0T/GfckO8G3RP6WN/lcD8eM/st5L0c4e1T/UxBTVg+nXv9Ek5ZbCG9I/Ll9tRC/Mtj8BJEIbubfMP/QERuZAXeI/4oxQ67I/3b/egNIAxiTQP95fCCh3c/I/sJMD/NoE9z/soUp+m+/WP/Um68uNAwBArRA5v8SV+T9a9+RxpAz0PxziiMbLbPc//UT6XU4Q9D+NYrcHUCrvP/WKpJpgRPU/Y3z98B7A8j8f0u7vBVHwP5/aFgd+k/w/ay0H1BTE/T/g9mvcxMfxPyg2s2rVKPM/mb7xUMOM7T/eXwgod3PyP0nVWzGV7/g/Odkr7ZKy7j8=\",\"dtype\":\"float64\",\"order\":\"little\",\"shape\":[61]},\"principal_component_2\":{\"__ndarray__\":\"kM0hw3Uh/L+VAFcJ4hrLv+0VlNb76eK/YZSza/eU/b/Yi2FUCw+fP+XLA01tePC/8oKEXbZDBcCq9gYTsCWuv0vNqHx+XPy/0nstxk+8x78sLLY26rLbv/u9JkVKZsi/kInUeJ9N6b9l5T6HOSL6v7tAi9CC2fS/tAipiLWp2r9Fr8dW+Rvuv+HFU70Krdq/ITfCViNBsL9TnvIgnAvQPzOIsEKXJrW/XRnYPl+3zL9oBRGQV+rwv2nCfHF5BPm/bNYvdp0s+b9DnpAdXtTovwstEs1+YeS/bm49mmj50b+8i7Pvikf2v4HHaP8nN8u/PmcLDe1G9b8kCf6DO+nxvwDGHdUiNJw/ZevEJROl77/NwuSruSQAwKFLO3SQU+u/nY5GPmdjxr9K9kdU3FnYv4M6tZoYrcO/tfvOiaWh+L+jehyOShHjv0gIW3ZDcea/dpQzq/qaqb87lg29Jfb4v7GQnq/nKee/aH0vzm1o27+OMWiJoq3yv6avYO3pbNy/Tip0Mjl7+79AzVl8D0fiv0NsHbAVJ9+/xNmJW81o1L91qPtybMewP928S8Epvci/hoE7U1ijx7/5k4Cxb/HSv0Wv2/Y8Juq/fQBbUiCxkz9ICFt2Q3Hmv8Fa1TpU+Oy/6AksNprRlr8=\",\"dtype\":\"float64\",\"order\":\"little\",\"shape\":[61]}},\"selected\":{\"id\":\"2598\"},\"selection_policy\":{\"id\":\"2611\"}},\"id\":\"2597\",\"type\":\"ColumnDataSource\"},{\"attributes\":{\"fill_alpha\":{\"value\":0.2},\"fill_color\":{\"value\":\"#2ba02b\"},\"line_alpha\":{\"value\":0.2},\"line_color\":{\"value\":\"#2ba02b\"},\"size\":{\"units\":\"screen\",\"value\":5.477225575051661},\"x\":{\"field\":\"principal component 1\"},\"y\":{\"field\":\"principal component 2\"}},\"id\":\"2639\",\"type\":\"Scatter\"},{\"attributes\":{\"label\":{\"value\":\"2\"},\"renderers\":[{\"id\":\"2640\"}]},\"id\":\"2654\",\"type\":\"LegendItem\"},{\"attributes\":{\"callback\":null,\"renderers\":[{\"id\":\"2603\"},{\"id\":\"2621\"},{\"id\":\"2640\"}],\"tags\":[\"hv_created\"],\"tooltips\":[[\"class\",\"@{class}\"],[\"principal component 1\",\"@{principal_component_1}\"],[\"principal component 2\",\"@{principal_component_2}\"]]},\"id\":\"2560\",\"type\":\"HoverTool\"},{\"attributes\":{},\"id\":\"2635\",\"type\":\"Selection\"},{\"attributes\":{\"data_source\":{\"id\":\"2597\"},\"glyph\":{\"id\":\"2600\"},\"hover_glyph\":null,\"muted_glyph\":{\"id\":\"2602\"},\"nonselection_glyph\":{\"id\":\"2601\"},\"selection_glyph\":null,\"view\":{\"id\":\"2604\"}},\"id\":\"2603\",\"type\":\"GlyphRenderer\"},{\"attributes\":{\"fill_alpha\":{\"value\":0.1},\"fill_color\":{\"value\":\"#ff7e0e\"},\"line_alpha\":{\"value\":0.1},\"line_color\":{\"value\":\"#ff7e0e\"},\"size\":{\"units\":\"screen\",\"value\":5.477225575051661},\"x\":{\"field\":\"principal component 1\"},\"y\":{\"field\":\"principal component 2\"}},\"id\":\"2619\",\"type\":\"Scatter\"},{\"attributes\":{\"fill_alpha\":{\"value\":0.2},\"fill_color\":{\"value\":\"#1f77b3\"},\"line_alpha\":{\"value\":0.2},\"line_color\":{\"value\":\"#1f77b3\"},\"size\":{\"units\":\"screen\",\"value\":5.477225575051661},\"x\":{\"field\":\"principal component 1\"},\"y\":{\"field\":\"principal component 2\"}},\"id\":\"2602\",\"type\":\"Scatter\"},{\"attributes\":{\"fill_color\":{\"value\":\"#2ba02b\"},\"line_color\":{\"value\":\"#2ba02b\"},\"size\":{\"units\":\"screen\",\"value\":5.477225575051661},\"x\":{\"field\":\"principal component 1\"},\"y\":{\"field\":\"principal component 2\"}},\"id\":\"2637\",\"type\":\"Scatter\"},{\"attributes\":{},\"id\":\"2582\",\"type\":\"WheelZoomTool\"},{\"attributes\":{\"end\":3.5698545102352757,\"reset_end\":3.5698545102352757,\"reset_start\":-3.0348831212643534,\"start\":-3.0348831212643534,\"tags\":[[[\"principal component 1\",\"principal component 1\",null]]]},\"id\":\"2558\",\"type\":\"Range1d\"},{\"attributes\":{\"fill_color\":{\"value\":\"#ff7e0e\"},\"line_color\":{\"value\":\"#ff7e0e\"},\"size\":{\"units\":\"screen\",\"value\":5.477225575051661},\"x\":{\"field\":\"principal component 1\"},\"y\":{\"field\":\"principal component 2\"}},\"id\":\"2618\",\"type\":\"Scatter\"},{\"attributes\":{\"axis\":{\"id\":\"2576\"},\"dimension\":1,\"grid_line_color\":null,\"ticker\":null},\"id\":\"2579\",\"type\":\"Grid\"},{\"attributes\":{\"click_policy\":\"mute\",\"items\":[{\"id\":\"2614\"},{\"id\":\"2633\"},{\"id\":\"2654\"}],\"location\":[0,0],\"title\":\"class\"},\"id\":\"2613\",\"type\":\"Legend\"},{\"attributes\":{\"source\":{\"id\":\"2634\"}},\"id\":\"2641\",\"type\":\"CDSView\"},{\"attributes\":{\"fill_alpha\":{\"value\":0.2},\"fill_color\":{\"value\":\"#ff7e0e\"},\"line_alpha\":{\"value\":0.2},\"line_color\":{\"value\":\"#ff7e0e\"},\"size\":{\"units\":\"screen\",\"value\":5.477225575051661},\"x\":{\"field\":\"principal component 1\"},\"y\":{\"field\":\"principal component 2\"}},\"id\":\"2620\",\"type\":\"Scatter\"},{\"attributes\":{\"data_source\":{\"id\":\"2634\"},\"glyph\":{\"id\":\"2637\"},\"hover_glyph\":null,\"muted_glyph\":{\"id\":\"2639\"},\"nonselection_glyph\":{\"id\":\"2638\"},\"selection_glyph\":null,\"view\":{\"id\":\"2641\"}},\"id\":\"2640\",\"type\":\"GlyphRenderer\"},{\"attributes\":{\"align\":null,\"below\":[{\"id\":\"2572\"}],\"center\":[{\"id\":\"2575\"},{\"id\":\"2579\"}],\"left\":[{\"id\":\"2576\"}],\"margin\":null,\"min_border_bottom\":10,\"min_border_left\":10,\"min_border_right\":10,\"min_border_top\":10,\"plot_height\":300,\"plot_width\":700,\"renderers\":[{\"id\":\"2603\"},{\"id\":\"2621\"},{\"id\":\"2640\"}],\"right\":[{\"id\":\"2613\"}],\"sizing_mode\":\"fixed\",\"title\":{\"id\":\"2564\"},\"toolbar\":{\"id\":\"2586\"},\"x_range\":{\"id\":\"2558\"},\"x_scale\":{\"id\":\"2568\"},\"y_range\":{\"id\":\"2559\"},\"y_scale\":{\"id\":\"2570\"}},\"id\":\"2563\",\"subtype\":\"Figure\",\"type\":\"Plot\"}],\"root_ids\":[\"2556\"]},\"title\":\"Bokeh Application\",\"version\":\"2.1.1\"}};\n  var render_items = [{\"docid\":\"db306e29-6254-4d70-89a7-44c56f6a5913\",\"root_ids\":[\"2556\"],\"roots\":{\"2556\":\"05a5ee6d-1efd-4dd0-a2c2-afc5e3871fd2\"}}];\n  root.Bokeh.embed.embed_items_notebook(docs_json, render_items);\n  }\nif (root.Bokeh !== undefined) {\n    embed_document(root);\n  } else {\n    var attempts = 0;\n    var timer = setInterval(function(root) {\n      if (root.Bokeh !== undefined) {\n        clearInterval(timer);\n        embed_document(root);\n      } else if (document.readyState == \"complete\") {\n        attempts++;\n        if (attempts > 100) {\n          clearInterval(timer);\n          console.log(\"Bokeh: ERROR: Unable to run BokehJS code because BokehJS library is missing\");\n        }\n      }\n    }, 10, root)\n  }\n})(window);</script>",
      "application/vnd.holoviews_exec.v0+json": "",
      "text/plain": ":NdOverlay   [class]\n   :Scatter   [principal component 1]   (principal component 2,class)"
     },
     "metadata": {
      "application/vnd.holoviews_exec.v0+json": {
       "id": "2556"
      }
     },
     "execution_count": 26
    }
   ],
   "source": [
    "# Finally create a plog of the results of the hierarchical clustering algo:\n",
    "df_iris_pca.hvplot.scatter(\n",
    "    x=\"principal component 1\",\n",
    "    y=\"principal component 2\",\n",
    "    hover_cols=[\"class\"],\n",
    "    by=\"class\",\n",
    ")"
   ]
  },
  {
   "cell_type": "code",
   "execution_count": null,
   "metadata": {},
   "outputs": [],
   "source": []
  }
 ]
}